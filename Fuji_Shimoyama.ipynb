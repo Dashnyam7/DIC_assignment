{
  "cells": [
    {
      "cell_type": "markdown",
      "metadata": {
        "id": "view-in-github",
        "colab_type": "text"
      },
      "source": [
        "<a href=\"https://colab.research.google.com/github/Dashnyam7/DIC_assignment/blob/main/Fuji_Shimoyama.ipynb\" target=\"_parent\"><img src=\"https://colab.research.google.com/assets/colab-badge.svg\" alt=\"Open In Colab\"/></a>"
      ]
    },
    {
      "cell_type": "code",
      "execution_count": 36,
      "metadata": {
        "id": "lZgFQgk_JPAU"
      },
      "outputs": [],
      "source": [
        "import numpy as np\n",
        "\n",
        "csv_path = \"mtfuji_data.csv\" # Specify the file name (path)\n",
        "\n",
        "np.set_printoptions(suppress=True) # Set prohibition of scientific notation\n",
        "fuji = np.loadtxt(csv_path, delimiter=\",\", skiprows=1)"
      ]
    },
    {
      "cell_type": "code",
      "execution_count": 37,
      "metadata": {
        "colab": {
          "base_uri": "https://localhost:8080/"
        },
        "id": "NeC4ka_3Jrgy",
        "outputId": "ac42e010-a008-4e5e-f7f0-66f0783cea77"
      },
      "outputs": [
        {
          "output_type": "stream",
          "name": "stdout",
          "text": [
            "[[  130.          35.352505   138.756638  2563.4      41888.      ]\n",
            " [  131.          35.35418    138.753742  2703.1      42210.      ]\n",
            " [  132.          35.355855   138.750846  2825.55     42532.      ]\n",
            " [  133.          35.35753    138.74795   2967.9      42854.      ]\n",
            " [  134.          35.359205   138.745054  3087.81     43177.      ]\n",
            " [  135.          35.36088    138.742157  3266.24     43499.      ]\n",
            " [  136.          35.362555   138.739261  3434.59     43821.      ]\n",
            " [  137.          35.36423    138.736364  3600.08     44143.      ]\n",
            " [  138.          35.365904   138.733468  3679.96     44466.      ]\n",
            " [  139.          35.367579   138.730571  3664.9      44788.      ]]\n"
          ]
        }
      ],
      "source": [
        "print(fuji[130:140])"
      ]
    },
    {
      "cell_type": "code",
      "execution_count": 38,
      "metadata": {
        "colab": {
          "base_uri": "https://localhost:8080/"
        },
        "id": "O6e_f7kZJ7By",
        "outputId": "00dfa8b8-8ef1-4916-d3b8-d1c2cea38bf7"
      },
      "outputs": [
        {
          "output_type": "stream",
          "name": "stdout",
          "text": [
            "[[    0.          35.134141   139.132082     0.           0.      ]\n",
            " [    1.          35.135826   139.129202     0.         322.      ]\n",
            " [    2.          35.13751    139.126322     0.         644.      ]\n",
            " ...\n",
            " [  297.          35.631284   138.271368  1973.99     95698.      ]\n",
            " [  298.          35.632947   138.268452  1841.36     96020.      ]\n",
            " [  299.          35.63461    138.265536  1725.8      96343.      ]]\n"
          ]
        }
      ],
      "source": [
        "print(fuji)"
      ]
    },
    {
      "cell_type": "code",
      "execution_count": 39,
      "metadata": {
        "colab": {
          "base_uri": "https://localhost:8080/"
        },
        "id": "dsOX3tjmLTIL",
        "outputId": "a3946c79-15e8-4257-9b41-9ebf47b1bf93"
      },
      "outputs": [
        {
          "output_type": "stream",
          "name": "stdout",
          "text": [
            "[   0.      0.      0.      0.      0.      0.      6.62    7.21   12.2\n",
            "   54.41  171.56  177.84  228.21  275.38  433.76  371.74  380.06  503.4\n",
            "  485.39  477.82  580.5   610.92  654.96  628.22  626.64  572.55  723.95\n",
            "  701.94  879.47  976.17  919.16  817.    743.06  770.92  864.06  826.52\n",
            "  748.39  756.11  724.5   724.5   724.5   724.5   724.5   724.5   724.5\n",
            "  724.5   724.5   724.5   852.18  851.36  831.    880.44  955.14  849.52\n",
            "  831.6   790.01  738.97  848.83  738.3   736.48  672.24  564.02  552.23\n",
            "  497.41  558.28  503.02  462.33  469.66  429.49  454.21  412.27  362.29\n",
            "  355.68  368.91  371.04  371.19  377.62  386.64  390.14  418.41  420.6\n",
            "  443.    458.66  471.82  488.4   505.1   519.54  536.54  553.64  575.07\n",
            "  588.99  602.36  613.04  631.71  660.43  672.36  700.15  725.72  741.17\n",
            "  753.68  772.58  795.25  817.62  858.62  883.89  910.5   932.74  973.32\n",
            " 1000.24 1034.34 1059.69 1105.8  1166.58 1219.86 1239.97 1292.52 1360.1\n",
            " 1429.75 1506.66 1561.94 1598.36 1659.43 1726.5  1781.98 1850.02 1953.48\n",
            " 2076.15 2196.53 2306.85 2426.1  2563.4  2703.1  2825.55 2967.9  3087.81\n",
            " 3266.24 3434.59 3600.08 3679.96 3664.9  3567.76 3348.43 3171.53 3019.8\n",
            " 2864.56 2713.03 2566.6  2450.23 2334.42 2240.98 2146.01 2061.63 1963.73\n",
            " 1904.2  1798.99 1748.11 1679.25 1623.73 1590.97 1525.57 1484.72 1429.03\n",
            " 1384.07 1333.51 1306.46 1272.98 1259.24 1222.48 1201.31 1182.32 1160.85\n",
            " 1124.83 1095.73 1081.07 1068.05 1053.28 1049.33 1043.91 1033.52 1022.1\n",
            "  993.63  985.66  970.58  960.52  958.44 1094.28 1203.92 1321.2  1351.64\n",
            " 1215.13 1056.99  973.61  900.    900.    900.   1020.79 1126.56 1155.7\n",
            "  990.05  895.16  723.66  616.85  556.79  502.25  587.23  620.23  622.89\n",
            "  631.41  479.68  427.07  413.4   361.49  505.42  592.32  526.51  405.96\n",
            "  391.72  354.39  487.5   582.16  595.53  563.7   425.04  339.21  312.76\n",
            "  332.88  270.33  332.39  440.61  514.97  422.18  344.44  423.72  363.25\n",
            "  278.95  262.    301.    409.72  437.7   491.04  501.97  430.96  462.99\n",
            "  456.1   502.93  542.    749.23  855.15  821.32  915.92  901.57 1079.27\n",
            " 1161.14 1191.05 1144.26  986.58  929.33  909.89  972.71 1141.8  1243.66\n",
            " 1355.83 1530.88 1599.43 1733.89 1755.81 1878.56 1717.62 1745.04 1776.91\n",
            " 1616.81 1680.01 1644.14 1635.28 1566.79 1438.39 1390.92 1282.63 1348.7\n",
            " 1376.17 1309.46 1337.45 1199.98  916.3  1037.93 1154.9  1372.58 1510.22\n",
            " 1681.01 1732.79 1918.68 2102.67 2213.03 2158.71 2084.51 1918.24 1944.63\n",
            " 1973.99 1841.36 1725.8 ]\n"
          ]
        }
      ],
      "source": [
        "print(fuji[:,3])"
      ]
    },
    {
      "cell_type": "markdown",
      "metadata": {
        "id": "_MYTYpzMJTDa"
      },
      "source": [
        "# [Problem 1] Data visualization"
      ]
    },
    {
      "cell_type": "code",
      "execution_count": 40,
      "metadata": {
        "colab": {
          "base_uri": "https://localhost:8080/",
          "height": 295
        },
        "id": "yKoxEjs4JyHK",
        "outputId": "20a0ef81-2ad2-4b21-b1cf-39f5a202a5bd"
      },
      "outputs": [
        {
          "output_type": "display_data",
          "data": {
            "text/plain": [
              "<Figure size 432x288 with 1 Axes>"
            ],
            "image/png": "[encoded data removed]"
          },
          "metadata": {
            "needs_background": "light"
          }
        }
      ],
      "source": [
        "import matplotlib.pyplot as plt\n",
        "fig, ax = plt.subplots()\n",
        "position = fuji[:,0]\n",
        "elevation = fuji[:,3]\n",
        "ax.plot(position, elevation )\n",
        "ax.set_title('Mt Fuji')\n",
        "ax.set_xlabel('position')\n",
        "ax.set_ylabel('elevation[m]')\n",
        "plt.show()"
      ]
    },
    {
      "cell_type": "markdown",
      "metadata": {
        "id": "RieFWIpZNuQr"
      },
      "source": [
        "# [Problem 2] Create a function to calculate the gradient at a certain point"
      ]
    },
    {
      "cell_type": "code",
      "execution_count": 41,
      "metadata": {
        "colab": {
          "base_uri": "https://localhost:8080/"
        },
        "id": "k0EeJYZZNqrT",
        "outputId": "f56a5efd-decd-4f8a-dd73-806f6e3cc1f8"
      },
      "outputs": [
        {
          "output_type": "execute_result",
          "data": {
            "text/plain": [
              "168.35000000000036"
            ]
          },
          "metadata": {},
          "execution_count": 41
        }
      ],
      "source": [
        "def compute_gradient(elevation, i):\n",
        "  gradient = (elevation[i]-elevation[i-1])\n",
        "  return gradient\n",
        "\n",
        "compute_gradient(elevation, 136)"
      ]
    },
    {
      "cell_type": "code",
      "execution_count": 66,
      "metadata": {
        "colab": {
          "base_uri": "https://localhost:8080/"
        },
        "id": "H4PnZKEBP0cc",
        "outputId": "dd5f7f63-c8af-437b-b048-38d17f2ce676"
      },
      "outputs": [
        {
          "output_type": "execute_result",
          "data": {
            "text/plain": [
              "0.14999999999997726"
            ]
          },
          "metadata": {},
          "execution_count": 66
        }
      ],
      "source": [
        "gradient = compute_gradient(elevation,75)\n",
        "gradient"
      ]
    },
    {
      "cell_type": "markdown",
      "metadata": {
        "id": "vpgKtuQZQ-TF"
      },
      "source": [
        "# [Problem 3] Create a function to calculate the destination point"
      ]
    },
    {
      "cell_type": "code",
      "execution_count": 43,
      "metadata": {
        "id": "M2qnu_ynRCkc"
      },
      "outputs": [],
      "source": [
        "def cal_dest_point(elevation, j, alpha=0.2):\n",
        "  dest_point = j - alpha*compute_gradient(elevation, j)\n",
        "  return int(round(dest_point,0))"
      ]
    },
    {
      "cell_type": "code",
      "execution_count": 67,
      "metadata": {
        "colab": {
          "base_uri": "https://localhost:8080/"
        },
        "id": "5AhxEWZeVH6j",
        "outputId": "dc64e3f5-8a8c-4e65-ccd1-f4e637771365"
      },
      "outputs": [
        {
          "output_type": "execute_result",
          "data": {
            "text/plain": [
              "75"
            ]
          },
          "metadata": {},
          "execution_count": 67
        }
      ],
      "source": [
        "a = cal_dest_point(elevation, 75)\n",
        "a"
      ]
    },
    {
      "cell_type": "markdown",
      "metadata": {
        "id": "XDWsJA3XpDy_"
      },
      "source": [
        "# [Question 4] Create a function to go down a mountain"
      ]
    },
    {
      "cell_type": "code",
      "execution_count": 71,
      "metadata": {
        "id": "ZDG8s_ZopE2h"
      },
      "outputs": [],
      "source": [
        "def down_point(elevation, j=136, alpha=0.2):\n",
        "  x = j\n",
        "  grad=compute_gradient(elevation, x)\n",
        "  i = 0\n",
        "  while grad > 0:\n",
        "    i=i+1\n",
        "    a = x\n",
        "    x = cal_dest_point(elevation, x)\n",
        "    grad=compute_gradient(elevation, x)\n",
        "    if i>j:\n",
        "      break\n",
        "  return a"
      ]
    },
    {
      "cell_type": "code",
      "execution_count": 72,
      "metadata": {
        "colab": {
          "base_uri": "https://localhost:8080/"
        },
        "id": "yD8xgcEngBPM",
        "outputId": "cf13d669-c23a-46d9-9f56-2191d7b76a29"
      },
      "outputs": [
        {
          "output_type": "execute_result",
          "data": {
            "text/plain": [
              "73"
            ]
          },
          "metadata": {},
          "execution_count": 72
        }
      ],
      "source": [
        "down_point(elevation, 138)"
      ]
    },
    {
      "cell_type": "markdown",
      "metadata": {
        "id": "kaCvbJoyjs0S"
      },
      "source": [
        "# [Problem 5] Visualization of the descent process"
      ]
    },
    {
      "cell_type": "code",
      "execution_count": 78,
      "metadata": {
        "id": "lo5_AELcjwNj",
        "colab": {
          "base_uri": "https://localhost:8080/",
          "height": 295
        },
        "outputId": "72e354f1-8f8c-4bfb-a984-0cae17c4b1e8"
      },
      "outputs": [
        {
          "output_type": "display_data",
          "data": {
            "text/plain": [
              "<Figure size 432x288 with 1 Axes>"
            ],
            "image/png": "[encoded data removed]"
          },
          "metadata": {
            "needs_background": "light"
          }
        }
      ],
      "source": [
        "def vis_point(elevation, j=136, alpha=0.2):\n",
        "  fig, ax = plt.subplots()\n",
        "  ax.plot(position, elevation )\n",
        "  ax.set_title('Mt Fuji')\n",
        "  ax.set_xlabel('position')\n",
        "  ax.set_ylabel('elevation[m]')\n",
        "  x = j\n",
        "  aa = [x]\n",
        "  bb = [elevation[x]]\n",
        "  grad=compute_gradient(elevation, x)\n",
        "  while grad > 0:\n",
        "    a = x\n",
        "    x = cal_dest_point(elevation, x)\n",
        "    grad=compute_gradient(elevation, x)\n",
        "    ax.plot(a,elevation[a],marker=\"o\", markersize=5, markerfacecolor=\"green\")\n",
        "    aa = np.append(aa,a)\n",
        "    bb = np.append(bb,elevation[a])\n",
        "  ax.plot(aa,bb)\n",
        "  plt.show()\n",
        "\n",
        "\n",
        "vis_point(elevation)"
      ]
    },
    {
      "cell_type": "markdown",
      "metadata": {
        "id": "pMzpZQL9js5i"
      },
      "source": [
        "# [Problem 6] Changing initial values\n",
        "# [Problem 7] Visualization of the descent process for each initial value"
      ]
    },
    {
      "cell_type": "code",
      "source": [
        "vis_point(elevation, 138)"
      ],
      "metadata": {
        "colab": {
          "base_uri": "https://localhost:8080/",
          "height": 295
        },
        "id": "z_CxcQMuQNQu",
        "outputId": "99d3119c-b3d7-4ab1-cbb0-592ec24d48bf"
      },
      "execution_count": 84,
      "outputs": [
        {
          "output_type": "display_data",
          "data": {
            "text/plain": [
              "<Figure size 432x288 with 1 Axes>"
            ],
            "image/png": "[encoded data removed]"
          },
          "metadata": {
            "needs_background": "light"
          }
        }
      ]
    }
  ],
  "metadata": {
    "colab": {
      "toc_visible": true,
      "provenance": [],
      "authorship_tag": "ABX9TyMYZT/Hcpazd+dQE3LQygKk",
      "include_colab_link": true
    },
    "kernelspec": {
      "display_name": "Python 3",
      "name": "python3"
    },
    "language_info": {
      "name": "python"
    }
  },
  "nbformat": 4,
  "nbformat_minor": 0
}