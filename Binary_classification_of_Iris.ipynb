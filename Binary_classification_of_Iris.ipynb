{
  "nbformat": 4,
  "nbformat_minor": 0,
  "metadata": {
    "colab": {
      "provenance": [],
      "toc_visible": true,
      "authorship_tag": "ABX9TyPXKhZ7cbpTN98Asl8AE4m9",
      "include_colab_link": true
    },
    "kernelspec": {
      "name": "python3",
      "display_name": "Python 3"
    },
    "language_info": {
      "name": "python"
    }
  },
  "cells": [
    {
      "cell_type": "markdown",
      "metadata": {
        "id": "view-in-github",
        "colab_type": "text"
      },
      "source": [
        "<a href=\"https://colab.research.google.com/github/Dashnyam7/DIC_assignment/blob/main/Binary_classification_of_Iris.ipynb\" target=\"_parent\"><img src=\"https://colab.research.google.com/assets/colab-badge.svg\" alt=\"Open In Colab\"/></a>"
      ]
    },
    {
      "cell_type": "markdown",
      "source": [
        "# Problem[1] Select features and categories for practice"
      ],
      "metadata": {
        "id": "rv4b6h2JIz6o"
      }
    },
    {
      "cell_type": "code",
      "execution_count": 8,
      "metadata": {
        "id": "B_dorOLqIvbq",
        "colab": {
          "base_uri": "https://localhost:8080/"
        },
        "outputId": "9389db73-cfc2-4d93-e221-8341c42285fb"
      },
      "outputs": [
        {
          "output_type": "execute_result",
          "data": {
            "text/plain": [
              "array([[3.2, 4.7],\n",
              "       [3.2, 4.5],\n",
              "       [3.1, 4.9],\n",
              "       [2.3, 4. ],\n",
              "       [2.8, 4.6],\n",
              "       [2.8, 4.5],\n",
              "       [3.3, 4.7],\n",
              "       [2.4, 3.3],\n",
              "       [2.9, 4.6],\n",
              "       [2.7, 3.9],\n",
              "       [2. , 3.5],\n",
              "       [3. , 4.2],\n",
              "       [2.2, 4. ],\n",
              "       [2.9, 4.7],\n",
              "       [2.9, 3.6],\n",
              "       [3.1, 4.4],\n",
              "       [3. , 4.5],\n",
              "       [2.7, 4.1],\n",
              "       [2.2, 4.5],\n",
              "       [2.5, 3.9],\n",
              "       [3.2, 4.8],\n",
              "       [2.8, 4. ],\n",
              "       [2.5, 4.9],\n",
              "       [2.8, 4.7],\n",
              "       [2.9, 4.3],\n",
              "       [3. , 4.4],\n",
              "       [2.8, 4.8],\n",
              "       [3. , 5. ],\n",
              "       [2.9, 4.5],\n",
              "       [2.6, 3.5],\n",
              "       [2.4, 3.8],\n",
              "       [2.4, 3.7],\n",
              "       [2.7, 3.9],\n",
              "       [2.7, 5.1],\n",
              "       [3. , 4.5],\n",
              "       [3.4, 4.5],\n",
              "       [3.1, 4.7],\n",
              "       [2.3, 4.4],\n",
              "       [3. , 4.1],\n",
              "       [2.5, 4. ],\n",
              "       [2.6, 4.4],\n",
              "       [3. , 4.6],\n",
              "       [2.6, 4. ],\n",
              "       [2.3, 3.3],\n",
              "       [2.7, 4.2],\n",
              "       [3. , 4.2],\n",
              "       [2.9, 4.2],\n",
              "       [2.9, 4.3],\n",
              "       [2.5, 3. ],\n",
              "       [2.8, 4.1],\n",
              "       [3.3, 6. ],\n",
              "       [2.7, 5.1],\n",
              "       [3. , 5.9],\n",
              "       [2.9, 5.6],\n",
              "       [3. , 5.8],\n",
              "       [3. , 6.6],\n",
              "       [2.5, 4.5],\n",
              "       [2.9, 6.3],\n",
              "       [2.5, 5.8],\n",
              "       [3.6, 6.1],\n",
              "       [3.2, 5.1],\n",
              "       [2.7, 5.3],\n",
              "       [3. , 5.5],\n",
              "       [2.5, 5. ],\n",
              "       [2.8, 5.1],\n",
              "       [3.2, 5.3],\n",
              "       [3. , 5.5],\n",
              "       [3.8, 6.7],\n",
              "       [2.6, 6.9],\n",
              "       [2.2, 5. ],\n",
              "       [3.2, 5.7],\n",
              "       [2.8, 4.9],\n",
              "       [2.8, 6.7],\n",
              "       [2.7, 4.9],\n",
              "       [3.3, 5.7],\n",
              "       [3.2, 6. ],\n",
              "       [2.8, 4.8],\n",
              "       [3. , 4.9],\n",
              "       [2.8, 5.6],\n",
              "       [3. , 5.8],\n",
              "       [2.8, 6.1],\n",
              "       [3.8, 6.4],\n",
              "       [2.8, 5.6],\n",
              "       [2.8, 5.1],\n",
              "       [2.6, 5.6],\n",
              "       [3. , 6.1],\n",
              "       [3.4, 5.6],\n",
              "       [3.1, 5.5],\n",
              "       [3. , 4.8],\n",
              "       [3.1, 5.4],\n",
              "       [3.1, 5.6],\n",
              "       [3.1, 5.1],\n",
              "       [2.7, 5.1],\n",
              "       [3.2, 5.9],\n",
              "       [3.3, 5.7],\n",
              "       [3. , 5.2],\n",
              "       [2.5, 5. ],\n",
              "       [3. , 5.2],\n",
              "       [3.4, 5.4],\n",
              "       [3. , 5.1]])"
            ]
          },
          "metadata": {},
          "execution_count": 8
        }
      ],
      "source": [
        "from sklearn.datasets import load_iris\n",
        "import pandas as pd\n",
        "iris = load_iris()\n",
        "data, target = iris.data[50:150, 1:3], iris.target[50:150]\n",
        "data"
      ]
    },
    {
      "cell_type": "code",
      "source": [
        "import matplotlib.pyplot as plt\n",
        "fig, ax = plt.subplots()\n",
        "ax.scatter(data[:, 0], data[:, 1])\n",
        "ax.set_xlabel('sepal width (cm)')\n",
        "ax.set_ylabel('petal width (cm)')\n",
        "plt.show()"
      ],
      "metadata": {
        "colab": {
          "base_uri": "https://localhost:8080/",
          "height": 279
        },
        "id": "quNBQF8z3p1i",
        "outputId": "d9429ad7-ce8b-44a8-bb04-085a344ea1d3"
      },
      "execution_count": 9,
      "outputs": [
        {
          "output_type": "display_data",
          "data": {
            "text/plain": [
              "<Figure size 432x288 with 1 Axes>"
            ],
            "image/png": "[encoded data removed]"
          },
          "metadata": {
            "needs_background": "light"
          }
        }
      ]
    },
    {
      "cell_type": "markdown",
      "source": [
        "# [Question 2] Data analysis"
      ],
      "metadata": {
        "id": "wdIudZnH4uG5"
      }
    },
    {
      "cell_type": "code",
      "source": [
        "fig, ax = plt.subplots()\n",
        "ax.scatter(data[:, 0], data[:, 1])\n",
        "ax.set_xlabel('sepal width (cm)')\n",
        "ax.set_ylabel('petal width (cm)')\n",
        "plt.show()"
      ],
      "metadata": {
        "colab": {
          "base_uri": "https://localhost:8080/",
          "height": 279
        },
        "id": "I9BdG4-X4xMh",
        "outputId": "957cf6a0-9d48-4c5a-90a7-3366f91f0d1a"
      },
      "execution_count": 10,
      "outputs": [
        {
          "output_type": "display_data",
          "data": {
            "text/plain": [
              "<Figure size 432x288 with 1 Axes>"
            ],
            "image/png": "[encoded data removed]"
          },
          "metadata": {
            "needs_background": "light"
          }
        }
      ]
    },
    {
      "cell_type": "code",
      "source": [
        "plt.boxplot(data, notch=None, vert=None, patch_artist=None, widths=None)"
      ],
      "metadata": {
        "colab": {
          "base_uri": "https://localhost:8080/",
          "height": 525
        },
        "id": "6aRG6tG555vp",
        "outputId": "04a28415-7e5a-4496-a164-f52946ba752f"
      },
      "execution_count": 12,
      "outputs": [
        {
          "output_type": "execute_result",
          "data": {
            "text/plain": [
              "{'whiskers': [<matplotlib.lines.Line2D at 0x7feebc70a6d0>,\n",
              "  <matplotlib.lines.Line2D at 0x7feebc70aa30>,\n",
              "  <matplotlib.lines.Line2D at 0x7feebc719eb0>,\n",
              "  <matplotlib.lines.Line2D at 0x7feebc723250>],\n",
              " 'caps': [<matplotlib.lines.Line2D at 0x7feebc70ad90>,\n",
              "  <matplotlib.lines.Line2D at 0x7feebc719130>,\n",
              "  <matplotlib.lines.Line2D at 0x7feebc7235b0>,\n",
              "  <matplotlib.lines.Line2D at 0x7feebc723910>],\n",
              " 'boxes': [<matplotlib.lines.Line2D at 0x7feebc70a370>,\n",
              "  <matplotlib.lines.Line2D at 0x7feebc719b50>],\n",
              " 'medians': [<matplotlib.lines.Line2D at 0x7feebc719490>,\n",
              "  <matplotlib.lines.Line2D at 0x7feebc723c70>],\n",
              " 'fliers': [<matplotlib.lines.Line2D at 0x7feebc719790>,\n",
              "  <matplotlib.lines.Line2D at 0x7feebc723f70>],\n",
              " 'means': []}"
            ]
          },
          "metadata": {},
          "execution_count": 12
        },
        {
          "output_type": "display_data",
          "data": {
            "text/plain": [
              "<Figure size 432x288 with 1 Axes>"
            ],
            "image/png": "[encoded data removed]"
          },
          "metadata": {
            "needs_background": "light"
          }
        }
      ]
    },
    {
      "cell_type": "code",
      "source": [
        "import seaborn as sns\n",
        "sns.violinplot(data)"
      ],
      "metadata": {
        "colab": {
          "base_uri": "https://localhost:8080/",
          "height": 337
        },
        "id": "l38_FmbV6fJL",
        "outputId": "5a0522e5-a645-44f9-9c4f-4e0815979585"
      },
      "execution_count": 18,
      "outputs": [
        {
          "output_type": "stream",
          "name": "stderr",
          "text": [
            "/usr/local/lib/python3.8/dist-packages/seaborn/_decorators.py:36: FutureWarning: Pass the following variable as a keyword arg: x. From version 0.12, the only valid positional argument will be `data`, and passing other arguments without an explicit keyword will result in an error or misinterpretation.\n",
            "  warnings.warn(\n"
          ]
        },
        {
          "output_type": "execute_result",
          "data": {
            "text/plain": [
              "<matplotlib.axes._subplots.AxesSubplot at 0x7feeba321700>"
            ]
          },
          "metadata": {},
          "execution_count": 18
        },
        {
          "output_type": "display_data",
          "data": {
            "text/plain": [
              "<Figure size 432x288 with 1 Axes>"
            ],
            "image/png": "[encoded data removed]"
          },
          "metadata": {
            "needs_background": "light"
          }
        }
      ]
    },
    {
      "cell_type": "markdown",
      "source": [
        "# [Problem 3] Division of preprocessing/training data and validation data"
      ],
      "metadata": {
        "id": "HtdVJULr7BTK"
      }
    },
    {
      "cell_type": "code",
      "source": [
        "print(type(data))"
      ],
      "metadata": {
        "colab": {
          "base_uri": "https://localhost:8080/"
        },
        "id": "GPADpDH17Eg5",
        "outputId": "39843246-17ba-48e3-a231-6d00dab6c368"
      },
      "execution_count": 19,
      "outputs": [
        {
          "output_type": "stream",
          "name": "stdout",
          "text": [
            "<class 'numpy.ndarray'>\n"
          ]
        }
      ]
    },
    {
      "cell_type": "code",
      "source": [
        "from sklearn.model_selection import train_test_split\n",
        "data_train, data_test, target_train, target_test = train_test_split(data, target, random_state=123, test_size=0.25)"
      ],
      "metadata": {
        "id": "Pxp7hJVP9xj7"
      },
      "execution_count": 21,
      "outputs": []
    },
    {
      "cell_type": "code",
      "source": [
        "print(data_train.shape)"
      ],
      "metadata": {
        "colab": {
          "base_uri": "https://localhost:8080/"
        },
        "id": "YE1qSgbD95UT",
        "outputId": "da2ca674-7fac-4c94-9f98-7e8e0ac6f8bf"
      },
      "execution_count": 24,
      "outputs": [
        {
          "output_type": "stream",
          "name": "stdout",
          "text": [
            "(75, 2)\n"
          ]
        }
      ]
    },
    {
      "cell_type": "markdown",
      "source": [
        "# [Problem 4] Preprocessing and standardization"
      ],
      "metadata": {
        "id": "_nLciRY9-EW1"
      }
    },
    {
      "cell_type": "code",
      "source": [
        "from sklearn.preprocessing import StandardScaler\n",
        "scaler = StandardScaler()\n",
        "scaler.fit_transform(data)"
      ],
      "metadata": {
        "colab": {
          "base_uri": "https://localhost:8080/"
        },
        "id": "tXG7k1PN-FYi",
        "outputId": "49730490-0e88-452f-8e47-442c78cf3ad4"
      },
      "execution_count": 26,
      "outputs": [
        {
          "output_type": "execute_result",
          "data": {
            "text/plain": [
              "array([[ 0.99068792, -0.25077906],\n",
              "       [ 0.99068792, -0.49425387],\n",
              "       [ 0.68864892, -0.00730424],\n",
              "       [-1.72766308, -1.10294091],\n",
              "       [-0.21746808, -0.37251647],\n",
              "       [-0.21746808, -0.49425387],\n",
              "       [ 1.29272692, -0.25077906],\n",
              "       [-1.42562408, -1.95510276],\n",
              "       [ 0.08457092, -0.37251647],\n",
              "       [-0.51950708, -1.22467832],\n",
              "       [-2.63378009, -1.71162795],\n",
              "       [ 0.38660992, -0.8594661 ],\n",
              "       [-2.02970209, -1.10294091],\n",
              "       [ 0.08457092, -0.25077906],\n",
              "       [ 0.08457092, -1.58989054],\n",
              "       [ 0.68864892, -0.61599128],\n",
              "       [ 0.38660992, -0.49425387],\n",
              "       [-0.51950708, -0.9812035 ],\n",
              "       [-2.02970209, -0.49425387],\n",
              "       [-1.12358508, -1.22467832],\n",
              "       [ 0.99068792, -0.12904165],\n",
              "       [-0.21746808, -1.10294091],\n",
              "       [-1.12358508, -0.00730424],\n",
              "       [-0.21746808, -0.25077906],\n",
              "       [ 0.08457092, -0.73772869],\n",
              "       [ 0.38660992, -0.61599128],\n",
              "       [-0.21746808, -0.12904165],\n",
              "       [ 0.38660992,  0.11443316],\n",
              "       [ 0.08457092, -0.49425387],\n",
              "       [-0.82154608, -1.71162795],\n",
              "       [-1.42562408, -1.34641572],\n",
              "       [-1.42562408, -1.46815313],\n",
              "       [-0.51950708, -1.22467832],\n",
              "       [-0.51950708,  0.23617057],\n",
              "       [ 0.38660992, -0.49425387],\n",
              "       [ 1.59476592, -0.49425387],\n",
              "       [ 0.68864892, -0.25077906],\n",
              "       [-1.72766308, -0.61599128],\n",
              "       [ 0.38660992, -0.9812035 ],\n",
              "       [-1.12358508, -1.10294091],\n",
              "       [-0.82154608, -0.61599128],\n",
              "       [ 0.38660992, -0.37251647],\n",
              "       [-0.82154608, -1.10294091],\n",
              "       [-1.72766308, -1.95510276],\n",
              "       [-0.51950708, -0.8594661 ],\n",
              "       [ 0.38660992, -0.8594661 ],\n",
              "       [ 0.08457092, -0.8594661 ],\n",
              "       [ 0.08457092, -0.73772869],\n",
              "       [-1.12358508, -2.32031498],\n",
              "       [-0.21746808, -0.9812035 ],\n",
              "       [ 1.29272692,  1.33180724],\n",
              "       [-0.51950708,  0.23617057],\n",
              "       [ 0.38660992,  1.21006983],\n",
              "       [ 0.08457092,  0.84485761],\n",
              "       [ 0.38660992,  1.08833242],\n",
              "       [ 0.38660992,  2.06223168],\n",
              "       [-1.12358508, -0.49425387],\n",
              "       [ 0.08457092,  1.69701946],\n",
              "       [-1.12358508,  1.08833242],\n",
              "       [ 2.19884393,  1.45354464],\n",
              "       [ 0.99068792,  0.23617057],\n",
              "       [-0.51950708,  0.47964538],\n",
              "       [ 0.38660992,  0.7231202 ],\n",
              "       [-1.12358508,  0.11443316],\n",
              "       [-0.21746808,  0.23617057],\n",
              "       [ 0.99068792,  0.47964538],\n",
              "       [ 0.38660992,  0.7231202 ],\n",
              "       [ 2.80292193,  2.18396909],\n",
              "       [-0.82154608,  2.4274439 ],\n",
              "       [-2.02970209,  0.11443316],\n",
              "       [ 0.99068792,  0.96659501],\n",
              "       [-0.21746808, -0.00730424],\n",
              "       [-0.21746808,  2.18396909],\n",
              "       [-0.51950708, -0.00730424],\n",
              "       [ 1.29272692,  0.96659501],\n",
              "       [ 0.99068792,  1.33180724],\n",
              "       [-0.21746808, -0.12904165],\n",
              "       [ 0.38660992, -0.00730424],\n",
              "       [-0.21746808,  0.84485761],\n",
              "       [ 0.38660992,  1.08833242],\n",
              "       [-0.21746808,  1.45354464],\n",
              "       [ 2.80292193,  1.81875686],\n",
              "       [-0.21746808,  0.84485761],\n",
              "       [-0.21746808,  0.23617057],\n",
              "       [-0.82154608,  0.84485761],\n",
              "       [ 0.38660992,  1.45354464],\n",
              "       [ 1.59476592,  0.84485761],\n",
              "       [ 0.68864892,  0.7231202 ],\n",
              "       [ 0.38660992, -0.12904165],\n",
              "       [ 0.68864892,  0.60138279],\n",
              "       [ 0.68864892,  0.84485761],\n",
              "       [ 0.68864892,  0.23617057],\n",
              "       [-0.51950708,  0.23617057],\n",
              "       [ 0.99068792,  1.21006983],\n",
              "       [ 1.29272692,  0.96659501],\n",
              "       [ 0.38660992,  0.35790798],\n",
              "       [-1.12358508,  0.11443316],\n",
              "       [ 0.38660992,  0.35790798],\n",
              "       [ 1.59476592,  0.60138279],\n",
              "       [ 0.38660992,  0.23617057]])"
            ]
          },
          "metadata": {},
          "execution_count": 26
        }
      ]
    },
    {
      "cell_type": "markdown",
      "source": [
        "# [Question 5] Learning and Estimation"
      ],
      "metadata": {
        "id": "AwSBadS2Bsnk"
      }
    },
    {
      "cell_type": "code",
      "source": [
        "from sklearn.neighbors import KNeighborsClassifier\n",
        "neigh = KNeighborsClassifier(n_neighbors=1)\n",
        "neigh.fit(data_train, target_train)"
      ],
      "metadata": {
        "colab": {
          "base_uri": "https://localhost:8080/"
        },
        "id": "I3XagvdhBryN",
        "outputId": "f01bb585-fba8-42f9-dafa-95541d416b64"
      },
      "execution_count": 63,
      "outputs": [
        {
          "output_type": "execute_result",
          "data": {
            "text/plain": [
              "KNeighborsClassifier(n_neighbors=1)"
            ]
          },
          "metadata": {},
          "execution_count": 63
        }
      ]
    },
    {
      "cell_type": "code",
      "source": [
        "target_pred = neigh.predict(data_test)\n",
        "target_pred"
      ],
      "metadata": {
        "colab": {
          "base_uri": "https://localhost:8080/"
        },
        "id": "CJF8UrrADV_c",
        "outputId": "5db044a0-b33c-4bec-a301-0c47346a7681"
      },
      "execution_count": 39,
      "outputs": [
        {
          "output_type": "execute_result",
          "data": {
            "text/plain": [
              "array([1, 2, 2, 1, 2, 1, 1, 2, 2, 1, 1, 2, 1, 2, 1, 1, 1, 1, 1, 2, 1, 1,\n",
              "       1, 1, 1])"
            ]
          },
          "metadata": {},
          "execution_count": 39
        }
      ]
    },
    {
      "cell_type": "code",
      "source": [
        "target_test"
      ],
      "metadata": {
        "colab": {
          "base_uri": "https://localhost:8080/"
        },
        "id": "UbN6K4RoENVP",
        "outputId": "6ab4cf37-caaa-42d2-c9f2-b5fab428a07d"
      },
      "execution_count": 33,
      "outputs": [
        {
          "output_type": "execute_result",
          "data": {
            "text/plain": [
              "array([1, 2, 2, 1, 2, 1, 1, 2, 2, 1, 1, 2, 2, 2, 1, 1, 2, 1, 2, 2, 1, 2,\n",
              "       1, 1, 1])"
            ]
          },
          "metadata": {},
          "execution_count": 33
        }
      ]
    },
    {
      "cell_type": "markdown",
      "source": [
        "# [Question 6] Evaluation"
      ],
      "metadata": {
        "id": "ZF89PH_cEsAc"
      }
    },
    {
      "cell_type": "code",
      "source": [
        "from sklearn.metrics import classification_report\n",
        "print(classification_report(target_test, target_pred))"
      ],
      "metadata": {
        "colab": {
          "base_uri": "https://localhost:8080/"
        },
        "id": "EEIeYxBFEvRr",
        "outputId": "892857f9-ce0e-4d73-ac6b-e49c2c907335"
      },
      "execution_count": 40,
      "outputs": [
        {
          "output_type": "stream",
          "name": "stdout",
          "text": [
            "              precision    recall  f1-score   support\n",
            "\n",
            "           1       0.76      1.00      0.87        13\n",
            "           2       1.00      0.67      0.80        12\n",
            "\n",
            "    accuracy                           0.84        25\n",
            "   macro avg       0.88      0.83      0.83        25\n",
            "weighted avg       0.88      0.84      0.83        25\n",
            "\n"
          ]
        }
      ]
    },
    {
      "cell_type": "code",
      "source": [
        "from sklearn.metrics import accuracy_score\n",
        "accuracy_score(target_test, target_pred)"
      ],
      "metadata": {
        "colab": {
          "base_uri": "https://localhost:8080/"
        },
        "id": "1Aghiw2_FIkL",
        "outputId": "13998321-70a6-4420-8824-148dbcc331be"
      },
      "execution_count": 41,
      "outputs": [
        {
          "output_type": "execute_result",
          "data": {
            "text/plain": [
              "0.84"
            ]
          },
          "metadata": {},
          "execution_count": 41
        }
      ]
    },
    {
      "cell_type": "code",
      "source": [
        "from sklearn.metrics import precision_score\n",
        "precision_score(target_test, target_pred)"
      ],
      "metadata": {
        "colab": {
          "base_uri": "https://localhost:8080/"
        },
        "id": "p-aFBCiUFzOM",
        "outputId": "747f7935-a9a7-4d60-db3b-2fea11cc56d4"
      },
      "execution_count": 42,
      "outputs": [
        {
          "output_type": "execute_result",
          "data": {
            "text/plain": [
              "0.7647058823529411"
            ]
          },
          "metadata": {},
          "execution_count": 42
        }
      ]
    },
    {
      "cell_type": "code",
      "source": [
        "from sklearn.metrics import recall_score\n",
        "recall_score(target_test, target_pred)"
      ],
      "metadata": {
        "colab": {
          "base_uri": "https://localhost:8080/"
        },
        "id": "CFrlj5T3GBsD",
        "outputId": "662d440e-4cd9-4cc6-83c6-6ee75617ef48"
      },
      "execution_count": 43,
      "outputs": [
        {
          "output_type": "execute_result",
          "data": {
            "text/plain": [
              "1.0"
            ]
          },
          "metadata": {},
          "execution_count": 43
        }
      ]
    },
    {
      "cell_type": "code",
      "source": [
        "from sklearn.metrics import f1_score\n",
        "f1_score(target_test, target_pred)"
      ],
      "metadata": {
        "colab": {
          "base_uri": "https://localhost:8080/"
        },
        "id": "GXyg9oAoGNPO",
        "outputId": "13e41d86-c300-407f-c815-6813be77ef0c"
      },
      "execution_count": 44,
      "outputs": [
        {
          "output_type": "execute_result",
          "data": {
            "text/plain": [
              "0.8666666666666666"
            ]
          },
          "metadata": {},
          "execution_count": 44
        }
      ]
    },
    {
      "cell_type": "code",
      "source": [
        "from sklearn.metrics import confusion_matrix\n",
        "confusion_matrix(target_test, target_pred)"
      ],
      "metadata": {
        "colab": {
          "base_uri": "https://localhost:8080/"
        },
        "id": "SCe7nZZ5GYFM",
        "outputId": "bfd0b673-a3e0-487f-b31b-dc2d0845ab5a"
      },
      "execution_count": 45,
      "outputs": [
        {
          "output_type": "execute_result",
          "data": {
            "text/plain": [
              "array([[13,  0],\n",
              "       [ 4,  8]])"
            ]
          },
          "metadata": {},
          "execution_count": 45
        }
      ]
    },
    {
      "cell_type": "markdown",
      "source": [
        "# [Question 7] Visualization"
      ],
      "metadata": {
        "id": "cJVex0-AGkdO"
      }
    },
    {
      "cell_type": "code",
      "source": [
        "import numpy as np\n",
        "import matplotlib.pyplot as plt\n",
        "from matplotlib.colors import ListedColormap\n",
        "import matplotlib.patches as mpatches\n",
        "\n",
        "def decision_region(X, y, model, step=0.01, title='decision region', xlabel='sepal_lenght', ylabel='petal_lenght', target_names=['versicolor', 'virginica']):\n",
        "    \"\"\"\n",
        "    2値分類を2次元の特徴量で学習したモデルの決定領域を描く。\n",
        "    背景の色が学習したモデルによる推定値から描画される。\n",
        "    散布図の点は訓練データまたは検証データである。\n",
        "\n",
        "    Parameters\n",
        "    ----------------\n",
        "    X : ndarray, shape(n_samples, 2)\n",
        "        特徴量\n",
        "    y : ndarray, shape(n_samples,)\n",
        "        ラベル\n",
        "    model : object\n",
        "        学習したモデルのインスンタスを入れる\n",
        "    step : float, (default : 0.1)\n",
        "        推定値を計算する間隔を設定する\n",
        "    title : str\n",
        "        グラフのタイトルの文章を与える\n",
        "    xlabel, ylabel : str\n",
        "        軸ラベルの文章を与える\n",
        "    target_names= : list of str\n",
        "        凡例の一覧を与える\n",
        "    \"\"\"\n",
        "    # setting\n",
        "    scatter_color = ['red', 'blue']\n",
        "    contourf_color = ['pink', 'skyblue']\n",
        "    n_class = 2\n",
        "\n",
        "    # pred\n",
        "    mesh_f0, mesh_f1  = np.meshgrid(np.arange(np.min(X[:,0])-0.5, np.max(X[:,0])+0.5, step), np.arange(np.min(X[:,1])-0.5, np.max(X[:,1])+0.5, step))\n",
        "    mesh = np.c_[np.ravel(mesh_f0),np.ravel(mesh_f1)]\n",
        "    y_pred = model.predict(mesh).reshape(mesh_f0.shape)\n",
        "\n",
        "    # plot\n",
        "    plt.title(title)\n",
        "    plt.xlabel(xlabel)\n",
        "    plt.ylabel(ylabel)\n",
        "    plt.contourf(mesh_f0, mesh_f1, y_pred, n_class-1, cmap=ListedColormap(contourf_color))\n",
        "    plt.contour(mesh_f0, mesh_f1, y_pred, n_class-1, colors='y', linewidths=3, alpha=0.5)\n",
        "    for i, target in enumerate(np.unique(y)):\n",
        "        plt.scatter(X[y==target][:, 0], X[y==target][:, 1], s=80, color=scatter_color[i], label=target_names[i], marker='o')\n",
        "    patches = [mpatches.Patch(color=scatter_color[i], label=target_names[i]) for i in range(n_class)]\n",
        "    plt.legend(handles=patches)\n",
        "    plt.legend()\n",
        "    plt.show()"
      ],
      "metadata": {
        "id": "ASJlj60fGouk"
      },
      "execution_count": 67,
      "outputs": []
    },
    {
      "cell_type": "code",
      "source": [
        "decision_region(X = data, y = target, model=neigh)"
      ],
      "metadata": {
        "colab": {
          "base_uri": "https://localhost:8080/",
          "height": 296
        },
        "id": "GLX_ZBAIIuNu",
        "outputId": "409fa1bf-c5a8-470c-d8a8-8e3841294f1a"
      },
      "execution_count": 68,
      "outputs": [
        {
          "output_type": "display_data",
          "data": {
            "text/plain": [
              "<Figure size 432x288 with 1 Axes>"
            ],
            "image/png": "[encoded data removed]"
          },
          "metadata": {
            "needs_background": "light"
          }
        }
      ]
    },
    {
      "cell_type": "markdown",
      "source": [
        "# [Question 8] Learning other methods"
      ],
      "metadata": {
        "id": "-0vRCdTFL9IN"
      }
    },
    {
      "cell_type": "markdown",
      "source": [
        "closest approach"
      ],
      "metadata": {
        "id": "TE6Z7yyjMjL9"
      }
    },
    {
      "cell_type": "code",
      "source": [
        "from sklearn.metrics import classification_report\n",
        "print(classification_report(target_test, target_pred))"
      ],
      "metadata": {
        "colab": {
          "base_uri": "https://localhost:8080/"
        },
        "id": "mgKgfiogMZw8",
        "outputId": "1de8b754-ec33-450c-8917-22f1a380055c"
      },
      "execution_count": 69,
      "outputs": [
        {
          "output_type": "stream",
          "name": "stdout",
          "text": [
            "              precision    recall  f1-score   support\n",
            "\n",
            "           1       0.76      1.00      0.87        13\n",
            "           2       1.00      0.67      0.80        12\n",
            "\n",
            "    accuracy                           0.84        25\n",
            "   macro avg       0.88      0.83      0.83        25\n",
            "weighted avg       0.88      0.84      0.83        25\n",
            "\n"
          ]
        }
      ]
    },
    {
      "cell_type": "markdown",
      "source": [
        "logistic regression"
      ],
      "metadata": {
        "id": "4uGyOmBZMnjE"
      }
    },
    {
      "cell_type": "code",
      "source": [
        "from sklearn.linear_model import LogisticRegression\n",
        "clf = LogisticRegression(random_state=0).fit(data_train, target_train)\n",
        "clf.predict(data_test)"
      ],
      "metadata": {
        "colab": {
          "base_uri": "https://localhost:8080/"
        },
        "id": "2YL6Qc9uMpiV",
        "outputId": "ed1079e1-219e-4dc9-a3c8-97e05426b23f"
      },
      "execution_count": 72,
      "outputs": [
        {
          "output_type": "execute_result",
          "data": {
            "text/plain": [
              "array([1, 2, 2, 1, 2, 1, 1, 2, 2, 1, 1, 2, 1, 2, 1, 1, 1, 1, 1, 2, 1, 1,\n",
              "       1, 1, 1])"
            ]
          },
          "metadata": {},
          "execution_count": 72
        }
      ]
    },
    {
      "cell_type": "code",
      "source": [
        "print(classification_report(target_test, clf.predict(data_test)))"
      ],
      "metadata": {
        "colab": {
          "base_uri": "https://localhost:8080/"
        },
        "id": "gqj1lGvfNadw",
        "outputId": "4aba3529-1def-441f-d082-6e4d733c7e80"
      },
      "execution_count": 86,
      "outputs": [
        {
          "output_type": "stream",
          "name": "stdout",
          "text": [
            "              precision    recall  f1-score   support\n",
            "\n",
            "           1       0.81      1.00      0.90        13\n",
            "           2       1.00      0.75      0.86        12\n",
            "\n",
            "    accuracy                           0.88        25\n",
            "   macro avg       0.91      0.88      0.88        25\n",
            "weighted avg       0.90      0.88      0.88        25\n",
            "\n"
          ]
        }
      ]
    },
    {
      "cell_type": "markdown",
      "source": [
        "SVM"
      ],
      "metadata": {
        "id": "PWIh5wWRN3os"
      }
    },
    {
      "cell_type": "code",
      "source": [
        "from sklearn.svm import SVC\n",
        "from sklearn.pipeline import make_pipeline\n",
        "svm = make_pipeline(StandardScaler(), SVC(gamma='auto'))\n",
        "svm.fit(data_train, target_train)\n",
        "svm.predict(data_test)"
      ],
      "metadata": {
        "colab": {
          "base_uri": "https://localhost:8080/"
        },
        "id": "3KEGtxLZN5o_",
        "outputId": "7dabb442-c0f2-4704-b514-cc887a77c6af"
      },
      "execution_count": 77,
      "outputs": [
        {
          "output_type": "execute_result",
          "data": {
            "text/plain": [
              "array([1, 2, 2, 1, 2, 1, 1, 2, 2, 1, 1, 2, 2, 2, 1, 1, 1, 1, 1, 2, 1, 1,\n",
              "       1, 1, 1])"
            ]
          },
          "metadata": {},
          "execution_count": 77
        }
      ]
    },
    {
      "cell_type": "code",
      "source": [
        "print(classification_report(target_test, svm.predict(data_test)))"
      ],
      "metadata": {
        "colab": {
          "base_uri": "https://localhost:8080/"
        },
        "id": "IOZSdR9DOrR-",
        "outputId": "256ec087-db20-447c-ab81-38683388c474"
      },
      "execution_count": 85,
      "outputs": [
        {
          "output_type": "stream",
          "name": "stdout",
          "text": [
            "              precision    recall  f1-score   support\n",
            "\n",
            "           1       0.81      1.00      0.90        13\n",
            "           2       1.00      0.75      0.86        12\n",
            "\n",
            "    accuracy                           0.88        25\n",
            "   macro avg       0.91      0.88      0.88        25\n",
            "weighted avg       0.90      0.88      0.88        25\n",
            "\n"
          ]
        }
      ]
    },
    {
      "cell_type": "markdown",
      "source": [
        "decision tree"
      ],
      "metadata": {
        "id": "kP8XmMCbOwEm"
      }
    },
    {
      "cell_type": "code",
      "source": [
        "from sklearn.tree import DecisionTreeClassifier\n",
        "tree = DecisionTreeClassifier(max_depth=3)\n",
        "tree.fit(data_train, target_train)\n",
        "tree.predict(data_test)"
      ],
      "metadata": {
        "colab": {
          "base_uri": "https://localhost:8080/"
        },
        "id": "391ejndUOyH_",
        "outputId": "60005c00-9d8d-48fc-fedc-3faef29379c5"
      },
      "execution_count": 80,
      "outputs": [
        {
          "output_type": "execute_result",
          "data": {
            "text/plain": [
              "array([1, 2, 2, 1, 2, 1, 1, 2, 2, 1, 1, 2, 1, 2, 1, 1, 1, 1, 1, 2, 1, 1,\n",
              "       1, 1, 1])"
            ]
          },
          "metadata": {},
          "execution_count": 80
        }
      ]
    },
    {
      "cell_type": "code",
      "source": [
        "print(classification_report(target_test, tree.predict(data_test)))"
      ],
      "metadata": {
        "colab": {
          "base_uri": "https://localhost:8080/"
        },
        "id": "1BeJa_cNPM5s",
        "outputId": "28a331eb-cb13-4080-c71d-348f1d539395"
      },
      "execution_count": 84,
      "outputs": [
        {
          "output_type": "stream",
          "name": "stdout",
          "text": [
            "              precision    recall  f1-score   support\n",
            "\n",
            "           1       0.76      1.00      0.87        13\n",
            "           2       1.00      0.67      0.80        12\n",
            "\n",
            "    accuracy                           0.84        25\n",
            "   macro avg       0.88      0.83      0.83        25\n",
            "weighted avg       0.88      0.84      0.83        25\n",
            "\n"
          ]
        }
      ]
    },
    {
      "cell_type": "markdown",
      "source": [
        "\n",
        "\n",
        "\n",
        "# random forest\n",
        "\n",
        "\n"
      ],
      "metadata": {
        "id": "ElW0Mm2wPRiU"
      }
    },
    {
      "cell_type": "code",
      "source": [
        "from sklearn.ensemble import RandomForestClassifier\n",
        "forest = RandomForestClassifier(n_estimators=100, random_state=123)\n",
        "forest.fit(data_train, target_train)\n",
        "forest.predict(data_test)"
      ],
      "metadata": {
        "colab": {
          "base_uri": "https://localhost:8080/"
        },
        "id": "lGxTqkaRPRNk",
        "outputId": "22074239-38da-4aa5-b425-4a5382fe4be6"
      },
      "execution_count": 82,
      "outputs": [
        {
          "output_type": "execute_result",
          "data": {
            "text/plain": [
              "array([1, 2, 2, 1, 2, 1, 1, 2, 2, 1, 1, 2, 1, 2, 1, 1, 1, 1, 1, 2, 1, 1,\n",
              "       1, 1, 1])"
            ]
          },
          "metadata": {},
          "execution_count": 82
        }
      ]
    },
    {
      "cell_type": "code",
      "source": [
        "print(classification_report(target_test, forest.predict(data_test)))"
      ],
      "metadata": {
        "colab": {
          "base_uri": "https://localhost:8080/"
        },
        "id": "raycmM9mPe1t",
        "outputId": "0b196c33-85d1-4af9-c9bb-e399ee1c9cee"
      },
      "execution_count": 83,
      "outputs": [
        {
          "output_type": "stream",
          "name": "stdout",
          "text": [
            "              precision    recall  f1-score   support\n",
            "\n",
            "           1       0.76      1.00      0.87        13\n",
            "           2       1.00      0.67      0.80        12\n",
            "\n",
            "    accuracy                           0.84        25\n",
            "   macro avg       0.88      0.83      0.83        25\n",
            "weighted avg       0.88      0.84      0.83        25\n",
            "\n"
          ]
        }
      ]
    }
  ]
}