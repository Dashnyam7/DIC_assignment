{
  "nbformat": 4,
  "nbformat_minor": 0,
  "metadata": {
    "colab": {
      "provenance": [],
      "toc_visible": true,
      "authorship_tag": "ABX9TyObaHxRBHzBH2UEDHfGo8E2",
      "include_colab_link": true
    },
    "kernelspec": {
      "name": "python3",
      "display_name": "Python 3"
    },
    "language_info": {
      "name": "python"
    }
  },
  "cells": [
    {
      "cell_type": "markdown",
      "metadata": {
        "id": "view-in-github",
        "colab_type": "text"
      },
      "source": [
        "<a href=\"https://colab.research.google.com/github/Dashnyam7/DIC_assignment/blob/main/Credit_information_learning.ipynb\" target=\"_parent\"><img src=\"https://colab.research.google.com/assets/colab-badge.svg\" alt=\"Open In Colab\"/></a>"
      ]
    },
    {
      "cell_type": "markdown",
      "source": [
        "# [Question 1] Confirmation of the content of the competition"
      ],
      "metadata": {
        "id": "nzC3l-DE-FWP"
      }
    },
    {
      "cell_type": "markdown",
      "source": [
        "What to learn and what to predict?\n",
        "\n",
        "Predict their clients' repayment abilities"
      ],
      "metadata": {
        "id": "7jmVHw4P-G5P"
      }
    },
    {
      "cell_type": "markdown",
      "source": [
        "What kind of file to create and submit to Kaggle?\n",
        "\n",
        ".csv, .zip, .gz, .7z extension files"
      ],
      "metadata": {
        "id": "HL0leMgk-elJ"
      }
    },
    {
      "cell_type": "markdown",
      "source": [
        "What kind of index value will the submitted work be evaluated by?\n",
        "\n",
        "TARGET variable"
      ],
      "metadata": {
        "id": "Wr44nkR6-4kx"
      }
    },
    {
      "cell_type": "markdown",
      "source": [
        "# [Question 2] Learning and verification"
      ],
      "metadata": {
        "id": "0LRMk-jl-FYu"
      }
    },
    {
      "cell_type": "code",
      "execution_count": 15,
      "metadata": {
        "id": "RzFFyZwa6FCs"
      },
      "outputs": [],
      "source": [
        "import numpy as np\n",
        "import pandas as pd\n",
        "app_train = pd.read_csv('application_train.csv')\n"
      ]
    },
    {
      "cell_type": "code",
      "source": [
        "def learn_ver(X, y):\n",
        "  from sklearn.model_selection import train_test_split\n",
        "  from sklearn.preprocessing import StandardScaler\n",
        "  from sklearn.linear_model import SGDRegressor\n",
        "  from sklearn.metrics import mean_squared_error\n",
        "  X_train, X_test, y_train, y_test = train_test_split(X, y, random_state=123) \n",
        "  scaler = StandardScaler()\n",
        "  scaler.fit(X_train)\n",
        "  X_train_std = scaler.transform(X_train)\n",
        "  X_test_std = scaler.transform(X_test)\n",
        "  reg = SGDRegressor()\n",
        "  reg.fit(X_train_std, y_train)\n",
        "  y_pred = reg.predict(X_test_std)\n",
        "  mse = mean_squared_error(y_test,y_pred)\n",
        "  rmse = np.sqrt(mse)\n",
        "  return  mse, rmse "
      ],
      "metadata": {
        "id": "MYS6lMSFA6PZ"
      },
      "execution_count": 20,
      "outputs": []
    },
    {
      "cell_type": "code",
      "source": [
        "train = app_train[['SK_ID_CURR']].values\n",
        "target = app_train[['TARGET']].values\n",
        "learn_ver(X=train, y=target )"
      ],
      "metadata": {
        "colab": {
          "base_uri": "https://localhost:8080/"
        },
        "id": "fr9j89orCJ4y",
        "outputId": "b870485e-7b3b-4cee-b30c-e138a56707b7"
      },
      "execution_count": 21,
      "outputs": [
        {
          "output_type": "stream",
          "name": "stderr",
          "text": [
            "/usr/local/lib/python3.8/dist-packages/sklearn/utils/validation.py:993: DataConversionWarning: A column-vector y was passed when a 1d array was expected. Please change the shape of y to (n_samples, ), for example using ravel().\n",
            "  y = column_or_1d(y, warn=True)\n"
          ]
        },
        {
          "output_type": "execute_result",
          "data": {
            "text/plain": [
              "(0.07369462486276841, 0.2714675392432186)"
            ]
          },
          "metadata": {},
          "execution_count": 21
        }
      ]
    },
    {
      "cell_type": "code",
      "source": [
        "train = app_train[['DAYS_BIRTH']].values\n",
        "learn_ver(X=train, y=target )"
      ],
      "metadata": {
        "colab": {
          "base_uri": "https://localhost:8080/"
        },
        "id": "x7ZENHugCmjp",
        "outputId": "e738c220-caa5-4804-a88d-c3a86f386361"
      },
      "execution_count": 22,
      "outputs": [
        {
          "output_type": "stream",
          "name": "stderr",
          "text": [
            "/usr/local/lib/python3.8/dist-packages/sklearn/utils/validation.py:993: DataConversionWarning: A column-vector y was passed when a 1d array was expected. Please change the shape of y to (n_samples, ), for example using ravel().\n",
            "  y = column_or_1d(y, warn=True)\n"
          ]
        },
        {
          "output_type": "execute_result",
          "data": {
            "text/plain": [
              "(0.0733071822267052, 0.27075299116852836)"
            ]
          },
          "metadata": {},
          "execution_count": 22
        }
      ]
    },
    {
      "cell_type": "code",
      "source": [
        "train = app_train[['DAYS_ID_PUBLISH']].values\n",
        "learn_ver(X=train, y=target )"
      ],
      "metadata": {
        "colab": {
          "base_uri": "https://localhost:8080/"
        },
        "id": "MBYoiRGUD9Vz",
        "outputId": "d28a1f37-2e7c-46ba-fddf-4fe7f52993e0"
      },
      "execution_count": 23,
      "outputs": [
        {
          "output_type": "stream",
          "name": "stderr",
          "text": [
            "/usr/local/lib/python3.8/dist-packages/sklearn/utils/validation.py:993: DataConversionWarning: A column-vector y was passed when a 1d array was expected. Please change the shape of y to (n_samples, ), for example using ravel().\n",
            "  y = column_or_1d(y, warn=True)\n"
          ]
        },
        {
          "output_type": "execute_result",
          "data": {
            "text/plain": [
              "(0.07349030050768876, 0.2710909450861256)"
            ]
          },
          "metadata": {},
          "execution_count": 23
        }
      ]
    },
    {
      "cell_type": "code",
      "source": [
        "train = app_train[['REGION_RATING_CLIENT']].values\n",
        "learn_ver(X=train, y=target )"
      ],
      "metadata": {
        "colab": {
          "base_uri": "https://localhost:8080/"
        },
        "id": "0p9U-BZZEDYH",
        "outputId": "d78930f2-eae3-4c4b-846e-77684057b306"
      },
      "execution_count": 24,
      "outputs": [
        {
          "output_type": "stream",
          "name": "stderr",
          "text": [
            "/usr/local/lib/python3.8/dist-packages/sklearn/utils/validation.py:993: DataConversionWarning: A column-vector y was passed when a 1d array was expected. Please change the shape of y to (n_samples, ), for example using ravel().\n",
            "  y = column_or_1d(y, warn=True)\n"
          ]
        },
        {
          "output_type": "execute_result",
          "data": {
            "text/plain": [
              "(0.07344355149091585, 0.27100470750692846)"
            ]
          },
          "metadata": {},
          "execution_count": 24
        }
      ]
    },
    {
      "cell_type": "code",
      "source": [
        "train = app_train[['CNT_CHILDREN']].values\n",
        "learn_ver(X=train, y=target )"
      ],
      "metadata": {
        "colab": {
          "base_uri": "https://localhost:8080/"
        },
        "id": "1r1wm-dfEIeQ",
        "outputId": "5658cbdf-8c40-42fa-b568-dcd8ce5ca468"
      },
      "execution_count": 31,
      "outputs": [
        {
          "output_type": "stream",
          "name": "stderr",
          "text": [
            "/usr/local/lib/python3.8/dist-packages/sklearn/utils/validation.py:993: DataConversionWarning: A column-vector y was passed when a 1d array was expected. Please change the shape of y to (n_samples, ), for example using ravel().\n",
            "  y = column_or_1d(y, warn=True)\n"
          ]
        },
        {
          "output_type": "execute_result",
          "data": {
            "text/plain": [
              "(0.07362791293075908, 0.2713446386622722)"
            ]
          },
          "metadata": {},
          "execution_count": 31
        }
      ]
    },
    {
      "cell_type": "markdown",
      "source": [
        "# [Problem 3] Estimation for test data"
      ],
      "metadata": {
        "id": "k41WFn8iDRMw"
      }
    },
    {
      "cell_type": "markdown",
      "source": [
        "done"
      ],
      "metadata": {
        "id": "TS5GiSw0DSgI"
      }
    },
    {
      "cell_type": "markdown",
      "source": [
        "# [Problem 4] Feature quantity engineering"
      ],
      "metadata": {
        "id": "jSXszianDa77"
      }
    },
    {
      "cell_type": "markdown",
      "source": [
        "which features to use\n",
        "\n",
        "CNT_CHILDREN, REGION_RATING_CLIENT, DAYS_ID_PUBLISH, DAYS_BIRTH, SK_ID_CURR"
      ],
      "metadata": {
        "id": "8B1L52xZDb9w"
      }
    },
    {
      "cell_type": "markdown",
      "source": [
        "how to pretreat\n",
        "\n",
        "Analysis of credit information assignment"
      ],
      "metadata": {
        "id": "rATr9G97DgI4"
      }
    }
  ]
}