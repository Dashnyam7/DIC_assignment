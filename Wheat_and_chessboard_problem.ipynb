{
  "nbformat": 4,
  "nbformat_minor": 0,
  "metadata": {
    "colab": {
      "provenance": [],
      "collapsed_sections": [],
      "toc_visible": true,
      "authorship_tag": "ABX9TyNGa3UQAbvE0CRVFrsaJsQW",
      "include_colab_link": true
    },
    "kernelspec": {
      "name": "python3",
      "display_name": "Python 3"
    },
    "language_info": {
      "name": "python"
    }
  },
  "cells": [
    {
      "cell_type": "markdown",
      "metadata": {
        "id": "view-in-github",
        "colab_type": "text"
      },
      "source": [
        "<a href=\"https://colab.research.google.com/github/Dashnyam7/DIC_assignment/blob/main/Wheat_and_chessboard_problem.ipynb\" target=\"_parent\"><img src=\"https://colab.research.google.com/assets/colab-badge.svg\" alt=\"Open In Colab\"/></a>"
      ]
    },
    {
      "cell_type": "code",
      "execution_count": 3,
      "metadata": {
        "colab": {
          "base_uri": "https://localhost:8080/"
        },
        "id": "ohbq8kMAJHhA",
        "outputId": "59653a65-70bf-45d7-8abf-b645e3e54ef8"
      },
      "outputs": [
        {
          "output_type": "stream",
          "name": "stdout",
          "text": [
            "4マスの板に小麦を並べる（リスト）：[1, 2, 4, 8]\n"
          ]
        }
      ],
      "source": [
        "n_squares = 4\n",
        "small_board_list = [1]\n",
        "for i in range(n_squares - 1):\n",
        "    small_board_list.append(2*small_board_list[-1])\n",
        "print(\"4マスの板に小麦を並べる（リスト）：{}\".format(small_board_list))"
      ]
    },
    {
      "cell_type": "code",
      "source": [
        "import numpy as np\n",
        "\n",
        "small_board_ndarray = np.array(small_board_list)\n",
        "print(\"4マスの板に小麦を並べる（ndarray）：{}\".format(small_board_ndarray))"
      ],
      "metadata": {
        "colab": {
          "base_uri": "https://localhost:8080/"
        },
        "id": "Qms-AxW_Jcyr",
        "outputId": "3b4fa927-1081-4061-f153-44b2e367bf30"
      },
      "execution_count": 2,
      "outputs": [
        {
          "output_type": "stream",
          "name": "stdout",
          "text": [
            "4マスの板に小麦を並べる（ndarray）：[1 2 4 8]\n"
          ]
        }
      ]
    },
    {
      "cell_type": "markdown",
      "source": [
        "# [Question 1] Number of wheat on a 2x2 square chessboard"
      ],
      "metadata": {
        "id": "OTtH6CekJM2d"
      }
    },
    {
      "cell_type": "code",
      "source": [
        "square_chessboard =  small_board_ndarray.reshape((2,2))\n",
        "print(\"2x2 square chessboard: {}\".format(square_chessboard))"
      ],
      "metadata": {
        "colab": {
          "base_uri": "https://localhost:8080/"
        },
        "id": "1z3GcIdjJhyW",
        "outputId": "063b7f9f-6e33-4637-9d4c-ab73aaac5ec8"
      },
      "execution_count": 7,
      "outputs": [
        {
          "output_type": "stream",
          "name": "stdout",
          "text": [
            "2x2 square chessboard: [[1 2]\n",
            " [4 8]]\n"
          ]
        }
      ]
    },
    {
      "cell_type": "markdown",
      "source": [
        "# [Problem 2] Extension to n × m squares"
      ],
      "metadata": {
        "id": "5rrFF3uwKsNc"
      }
    },
    {
      "cell_type": "code",
      "source": [
        "def nxm_squares(n=8, m=8):\n",
        "  board_list = [1]\n",
        "  for i in range(n*m-1):\n",
        "    board_list.append(2*board_list[-1])\n",
        "  board_ndarray = np.array(board_list)\n",
        "  square = board_ndarray.reshape((n,m))\n",
        "  return square\n",
        "square_8x8 = nxm_squares()\n",
        "print(square_8x8)"
      ],
      "metadata": {
        "colab": {
          "base_uri": "https://localhost:8080/"
        },
        "id": "7wwX9riAKvyd",
        "outputId": "ff1350ac-3905-4c7e-93d4-a683e11aae03"
      },
      "execution_count": 34,
      "outputs": [
        {
          "output_type": "stream",
          "name": "stdout",
          "text": [
            "[[1.00000000e+00 2.00000000e+00 4.00000000e+00 8.00000000e+00\n",
            "  1.60000000e+01 3.20000000e+01 6.40000000e+01 1.28000000e+02]\n",
            " [2.56000000e+02 5.12000000e+02 1.02400000e+03 2.04800000e+03\n",
            "  4.09600000e+03 8.19200000e+03 1.63840000e+04 3.27680000e+04]\n",
            " [6.55360000e+04 1.31072000e+05 2.62144000e+05 5.24288000e+05\n",
            "  1.04857600e+06 2.09715200e+06 4.19430400e+06 8.38860800e+06]\n",
            " [1.67772160e+07 3.35544320e+07 6.71088640e+07 1.34217728e+08\n",
            "  2.68435456e+08 5.36870912e+08 1.07374182e+09 2.14748365e+09]\n",
            " [4.29496730e+09 8.58993459e+09 1.71798692e+10 3.43597384e+10\n",
            "  6.87194767e+10 1.37438953e+11 2.74877907e+11 5.49755814e+11]\n",
            " [1.09951163e+12 2.19902326e+12 4.39804651e+12 8.79609302e+12\n",
            "  1.75921860e+13 3.51843721e+13 7.03687442e+13 1.40737488e+14]\n",
            " [2.81474977e+14 5.62949953e+14 1.12589991e+15 2.25179981e+15\n",
            "  4.50359963e+15 9.00719925e+15 1.80143985e+16 3.60287970e+16]\n",
            " [7.20575940e+16 1.44115188e+17 2.88230376e+17 5.76460752e+17\n",
            "  1.15292150e+18 2.30584301e+18 4.61168602e+18 9.22337204e+18]]\n"
          ]
        }
      ]
    },
    {
      "cell_type": "markdown",
      "source": [
        "# [Question 3] Total number of wheat"
      ],
      "metadata": {
        "id": "tcVF6XxGL9W8"
      }
    },
    {
      "cell_type": "code",
      "source": [
        "import matplotlib.pyplot as plt\n",
        "\n",
        "plt.xlabel(\"column\")\n",
        "plt.ylabel(\"number\")\n",
        "plt.title(\"number in each column\")\n",
        "plt.bar(np.arange(1,4), np.array([1, 2, 3]))\n",
        "plt.show()"
      ],
      "metadata": {
        "colab": {
          "base_uri": "https://localhost:8080/",
          "height": 295
        },
        "id": "WlXaLHJEMBCI",
        "outputId": "80dfb532-b2d3-46f1-fba8-617f9d31b4eb"
      },
      "execution_count": 12,
      "outputs": [
        {
          "output_type": "display_data",
          "data": {
            "text/plain": [
              "<Figure size 432x288 with 1 Axes>"
            ],
            "image/png": "[encoded data removed]"
          },
          "metadata": {
            "needs_background": "light"
          }
        }
      ]
    },
    {
      "cell_type": "code",
      "source": [
        "import pandas as pd\n",
        "import matplotlib.pyplot as plt\n",
        "square_8x8 = nxm_squares()\n",
        "df = pd.DataFrame(square_8x8)\n",
        "\n",
        "plt.xlabel(\"column\")\n",
        "plt.ylabel(\"number\")\n",
        "plt.title(\"number in each column\")\n",
        "col_8 = [df.loc[:, 0].mean(), df.loc[:, 1].mean(),df.loc[:, 2].mean(),df.loc[:, 3].mean(),df.loc[:, 4].mean(),df.loc[:, 5].mean(),df.loc[:, 6].mean(),df.loc[:, 7].mean()]\n",
        "plt.bar(np.arange(1,9), col_8)\n",
        "plt.show()"
      ],
      "metadata": {
        "colab": {
          "base_uri": "https://localhost:8080/",
          "height": 295
        },
        "id": "kVY4-zy7PUMa",
        "outputId": "d0afc079-b0e6-4dcf-cd99-ddf51a8ce322"
      },
      "execution_count": 32,
      "outputs": [
        {
          "output_type": "display_data",
          "data": {
            "text/plain": [
              "<Figure size 432x288 with 1 Axes>"
            ],
            "image/png": "[encoded data removed]"
          },
          "metadata": {
            "needs_background": "light"
          }
        }
      ]
    },
    {
      "cell_type": "markdown",
      "source": [
        "# [Question 4] Heat map of the number of wheat"
      ],
      "metadata": {
        "id": "Ie1ZJzpUTNcb"
      }
    },
    {
      "cell_type": "code",
      "source": [
        "plt.xlabel(\"column\")\n",
        "plt.ylabel(\"row\")\n",
        "plt.title(\"heatmap\")\n",
        "plt.pcolor(np.array([0, 1, 3, 5, 7, 9, 11, 13]).reshape(4, 2))\n",
        "plt.show()"
      ],
      "metadata": {
        "colab": {
          "base_uri": "https://localhost:8080/",
          "height": 295
        },
        "id": "uX-2JFVMTRmx",
        "outputId": "4ff1ef0f-ca37-4a5f-ef86-0a140e47cac8"
      },
      "execution_count": 35,
      "outputs": [
        {
          "output_type": "display_data",
          "data": {
            "text/plain": [
              "<Figure size 432x288 with 1 Axes>"
            ],
            "image/png": "[encoded data removed]"
          },
          "metadata": {
            "needs_background": "light"
          }
        }
      ]
    },
    {
      "cell_type": "code",
      "source": [
        "plt.xlabel(\"column\")\n",
        "plt.ylabel(\"row\")\n",
        "plt.title(\"heatmap\")\n",
        "plt.pcolor(df)\n",
        "plt.show()"
      ],
      "metadata": {
        "colab": {
          "base_uri": "https://localhost:8080/",
          "height": 295
        },
        "id": "ZtCgTXxRTYgL",
        "outputId": "5860fa00-9776-43f2-8954-84bd5c152b7f"
      },
      "execution_count": 36,
      "outputs": [
        {
          "output_type": "display_data",
          "data": {
            "text/plain": [
              "<Figure size 432x288 with 1 Axes>"
            ],
            "image/png": "[encoded data removed]"
          },
          "metadata": {
            "needs_background": "light"
          }
        }
      ]
    },
    {
      "cell_type": "markdown",
      "source": [
        "# [Question 5] How many times the second half is the first half?"
      ],
      "metadata": {
        "id": "WMOkR97QTnty"
      }
    },
    {
      "cell_type": "code",
      "source": [
        "  first_half = nxm_squares(4, 8)\n",
        "  second_half = first_half * pow(2,32)\n",
        "  print(second_half)"
      ],
      "metadata": {
        "colab": {
          "base_uri": "https://localhost:8080/"
        },
        "id": "qvZp96K5Trub",
        "outputId": "3d07fa84-a8a4-43bd-8c0d-8dbd5b9b31d4"
      },
      "execution_count": 43,
      "outputs": [
        {
          "output_type": "stream",
          "name": "stdout",
          "text": [
            "[[          4294967296           8589934592          17179869184\n",
            "           34359738368          68719476736         137438953472\n",
            "          274877906944         549755813888]\n",
            " [       1099511627776        2199023255552        4398046511104\n",
            "         8796093022208       17592186044416       35184372088832\n",
            "        70368744177664      140737488355328]\n",
            " [     281474976710656      562949953421312     1125899906842624\n",
            "      2251799813685248     4503599627370496     9007199254740992\n",
            "     18014398509481984    36028797018963968]\n",
            " [   72057594037927936   144115188075855872   288230376151711744\n",
            "    576460752303423488  1152921504606846976  2305843009213693952\n",
            "   4611686018427387904 -9223372036854775808]]\n"
          ]
        }
      ]
    },
    {
      "cell_type": "markdown",
      "source": [
        "# Other calculation methods"
      ],
      "metadata": {
        "id": "-lPc7C5vVLk3"
      }
    },
    {
      "cell_type": "markdown",
      "source": [
        "<<Sample code (np.append())>>"
      ],
      "metadata": {
        "id": "md1wYO99VXkM"
      }
    },
    {
      "cell_type": "code",
      "source": [
        "n_squares = 4\n",
        "small_board_ndarray = np.array([1])\n",
        "for _ in range(n_squares - 1):\n",
        "    small_board_ndarray = np.append(small_board_ndarray, 2*small_board_ndarray[-1])\n",
        "print(\"4マスの板に小麦を並べる（ndarray）：{}\".format(small_board_ndarray))"
      ],
      "metadata": {
        "colab": {
          "base_uri": "https://localhost:8080/"
        },
        "id": "RYx1MvxRVEaH",
        "outputId": "1604b20e-be3f-43df-8b7d-77a7c5988dd8"
      },
      "execution_count": 44,
      "outputs": [
        {
          "output_type": "stream",
          "name": "stdout",
          "text": [
            "4マスの板に小麦を並べる（ndarray）：[1 2 4 8]\n"
          ]
        }
      ]
    },
    {
      "cell_type": "markdown",
      "source": [
        "《Sample Code (Broadcast)》"
      ],
      "metadata": {
        "id": "pcMLlHBdVaQN"
      }
    },
    {
      "cell_type": "code",
      "source": [
        "n_squares = 4\n",
        "indices_of_squares = np.arange(n_squares)\n",
        "small_board_ndarray = 2**indices_of_squares\n",
        "print(\"4マスの板に小麦を並べる（ndarray）：{}\".format(small_board_ndarray))"
      ],
      "metadata": {
        "colab": {
          "base_uri": "https://localhost:8080/"
        },
        "id": "konWCGxfVcb7",
        "outputId": "ecbb662d-3452-4bfc-ca32-bd66ea3c10c3"
      },
      "execution_count": 45,
      "outputs": [
        {
          "output_type": "stream",
          "name": "stdout",
          "text": [
            "4マスの板に小麦を並べる（ndarray）：[1 2 4 8]\n"
          ]
        }
      ]
    },
    {
      "cell_type": "markdown",
      "source": [
        "Broadcast of numpy"
      ],
      "metadata": {
        "id": "cPgahmV2Vh2S"
      }
    },
    {
      "cell_type": "code",
      "source": [
        "import numpy as np\n",
        "a = np.array([0,1,2])\n",
        "\n",
        "#ブロードキャストを使わない場合\n",
        "b = np.array([5,5,5])\n",
        "print(a + b)  # Out: [5,6,7]\n",
        "\n",
        "\n",
        "print(a + 5)"
      ],
      "metadata": {
        "colab": {
          "base_uri": "https://localhost:8080/"
        },
        "id": "q3UtKI0jVihZ",
        "outputId": "71a7a50b-b694-4c56-fd7b-e57c8f4ae9fc"
      },
      "execution_count": 46,
      "outputs": [
        {
          "output_type": "stream",
          "name": "stdout",
          "text": [
            "[5 6 7]\n",
            "[5 6 7]\n"
          ]
        }
      ]
    },
    {
      "cell_type": "markdown",
      "source": [
        "ndarray type"
      ],
      "metadata": {
        "id": "zWMJy27eVtbB"
      }
    },
    {
      "cell_type": "code",
      "source": [
        "n_squares = 64\n",
        "board_ndarray = np.array([1])\n",
        "for _ in range(n_squares - 1):\n",
        "    board_ndarray = np.append(board_ndarray, 2*board_ndarray[-1])\n",
        "print(\"最後のマスの小麦の数：{}\".format(board_ndarray[-1]))"
      ],
      "metadata": {
        "colab": {
          "base_uri": "https://localhost:8080/"
        },
        "id": "wVS4550MVvVl",
        "outputId": "1304d635-d8b0-43a8-f7cb-fd2875698424"
      },
      "execution_count": 47,
      "outputs": [
        {
          "output_type": "stream",
          "name": "stdout",
          "text": [
            "最後のマスの小麦の数：-9223372036854775808\n"
          ]
        },
        {
          "output_type": "stream",
          "name": "stderr",
          "text": [
            "/usr/local/lib/python3.7/dist-packages/ipykernel_launcher.py:4: RuntimeWarning: overflow encountered in long_scalars\n",
            "  after removing the cwd from sys.path.\n"
          ]
        }
      ]
    },
    {
      "cell_type": "code",
      "source": [
        "n_squares = 64\n",
        "indices_of_squares = np.arange(n_squares)\n",
        "board_ndarray = 2**indices_of_squares\n",
        "print(\"最後のマスの小麦の数：{}\".format(board_ndarray[-1]))"
      ],
      "metadata": {
        "colab": {
          "base_uri": "https://localhost:8080/"
        },
        "id": "VNPtUeBMV0E3",
        "outputId": "212b204a-ff76-4eee-cd4b-cf438e3b45ef"
      },
      "execution_count": 48,
      "outputs": [
        {
          "output_type": "stream",
          "name": "stdout",
          "text": [
            "最後のマスの小麦の数：-9223372036854775808\n"
          ]
        }
      ]
    },
    {
      "cell_type": "code",
      "source": [
        "print(board_ndarray.dtype)"
      ],
      "metadata": {
        "colab": {
          "base_uri": "https://localhost:8080/"
        },
        "id": "uZJpQSOAV5Qr",
        "outputId": "c7835315-f0f8-4fca-fc2c-7f94ad7ba8f5"
      },
      "execution_count": 49,
      "outputs": [
        {
          "output_type": "stream",
          "name": "stdout",
          "text": [
            "int64\n"
          ]
        }
      ]
    },
    {
      "cell_type": "code",
      "source": [
        "n_squares = 64\n",
        "indices_of_squares = np.arange(n_squares).astype(np.uint64)\n",
        "board_ndarray = 2**indices_of_squares\n",
        "print(\"最後のマスの小麦の数：{}\".format(board_ndarray[-1]))"
      ],
      "metadata": {
        "colab": {
          "base_uri": "https://localhost:8080/"
        },
        "id": "ZGX7VR29V9Vd",
        "outputId": "3455f9ee-7a1e-4d16-83c7-fa831f23d4e3"
      },
      "execution_count": 50,
      "outputs": [
        {
          "output_type": "stream",
          "name": "stdout",
          "text": [
            "最後のマスの小麦の数：9223372036854775808\n"
          ]
        }
      ]
    },
    {
      "cell_type": "markdown",
      "source": [
        "# [Problem 6] Extension to n × m squares by other calculation methods"
      ],
      "metadata": {
        "id": "ybLlQQc2WAyN"
      }
    },
    {
      "cell_type": "code",
      "source": [
        "n_squares = 8\n",
        "board_array = np.array([1]).astype(np.uint64)\n",
        "for _ in range(n_squares * n_squares - 1):\n",
        "  board_array = np.append(board_array, 2*board_array[-1])\n",
        "print(board_array)"
      ],
      "metadata": {
        "colab": {
          "base_uri": "https://localhost:8080/"
        },
        "id": "2OCoDns6WB78",
        "outputId": "4b130871-79ec-4719-ddd1-a55fa9fcd65a"
      },
      "execution_count": 52,
      "outputs": [
        {
          "output_type": "stream",
          "name": "stdout",
          "text": [
            "[1.00000000e+00 2.00000000e+00 4.00000000e+00 8.00000000e+00\n",
            " 1.60000000e+01 3.20000000e+01 6.40000000e+01 1.28000000e+02\n",
            " 2.56000000e+02 5.12000000e+02 1.02400000e+03 2.04800000e+03\n",
            " 4.09600000e+03 8.19200000e+03 1.63840000e+04 3.27680000e+04\n",
            " 6.55360000e+04 1.31072000e+05 2.62144000e+05 5.24288000e+05\n",
            " 1.04857600e+06 2.09715200e+06 4.19430400e+06 8.38860800e+06\n",
            " 1.67772160e+07 3.35544320e+07 6.71088640e+07 1.34217728e+08\n",
            " 2.68435456e+08 5.36870912e+08 1.07374182e+09 2.14748365e+09\n",
            " 4.29496730e+09 8.58993459e+09 1.71798692e+10 3.43597384e+10\n",
            " 6.87194767e+10 1.37438953e+11 2.74877907e+11 5.49755814e+11\n",
            " 1.09951163e+12 2.19902326e+12 4.39804651e+12 8.79609302e+12\n",
            " 1.75921860e+13 3.51843721e+13 7.03687442e+13 1.40737488e+14\n",
            " 2.81474977e+14 5.62949953e+14 1.12589991e+15 2.25179981e+15\n",
            " 4.50359963e+15 9.00719925e+15 1.80143985e+16 3.60287970e+16\n",
            " 7.20575940e+16 1.44115188e+17 2.88230376e+17 5.76460752e+17\n",
            " 1.15292150e+18 2.30584301e+18 4.61168602e+18 9.22337204e+18]\n"
          ]
        }
      ]
    },
    {
      "cell_type": "markdown",
      "source": [
        "# [Question 7] Comparison of calculation time"
      ],
      "metadata": {
        "id": "GKqlwKLoY75c"
      }
    },
    {
      "cell_type": "code",
      "source": [
        "#1st method\n",
        "%%timeit\n",
        "nxm_squares()"
      ],
      "metadata": {
        "colab": {
          "base_uri": "https://localhost:8080/"
        },
        "id": "Ucbc41hRZ8nJ",
        "outputId": "3d1cfc87-62e3-405a-eb7d-c7e73516cf80"
      },
      "execution_count": 62,
      "outputs": [
        {
          "output_type": "stream",
          "name": "stdout",
          "text": [
            "16.8 µs ± 272 ns per loop (mean ± std. dev. of 7 runs, 100000 loops each)\n"
          ]
        }
      ]
    },
    {
      "cell_type": "code",
      "source": [
        "#2nd method\n",
        "%%timeit\n",
        "n_squares = 8\n",
        "board_array = np.array([1]).astype(np.uint64)\n",
        "for _ in range(n_squares * n_squares - 1):\n",
        "  board_array = np.append(board_array, 2*board_array[-1])"
      ],
      "metadata": {
        "colab": {
          "base_uri": "https://localhost:8080/"
        },
        "id": "qZVqTSTbZAev",
        "outputId": "e7d2eb0e-5a1a-407c-f85f-b6c0c6b83e6d"
      },
      "execution_count": 63,
      "outputs": [
        {
          "output_type": "stream",
          "name": "stdout",
          "text": [
            "409 µs ± 32.7 µs per loop (mean ± std. dev. of 7 runs, 1000 loops each)\n"
          ]
        }
      ]
    },
    {
      "cell_type": "code",
      "source": [
        "#3rd method\n",
        "%%timeit\n",
        "n_squares = 64\n",
        "indices_of_squares = np.arange(n_squares).astype(np.uint64)\n",
        "board_ndarray = 2**indices_of_squares\n",
        "square_8x8 = board_ndarray.reshape((8,8))"
      ],
      "metadata": {
        "colab": {
          "base_uri": "https://localhost:8080/"
        },
        "id": "86cz4cjTZNAI",
        "outputId": "18070f2b-992e-44d7-ec0e-8d68f6c5dd6a"
      },
      "execution_count": 64,
      "outputs": [
        {
          "output_type": "stream",
          "name": "stdout",
          "text": [
            "4.82 µs ± 74.3 ns per loop (mean ± std. dev. of 7 runs, 100000 loops each)\n"
          ]
        }
      ]
    },
    {
      "cell_type": "markdown",
      "source": [
        "The fastest method is 3rd method."
      ],
      "metadata": {
        "id": "YyMxp8wKahmj"
      }
    }
  ]
}