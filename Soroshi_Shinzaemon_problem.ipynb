{
  "nbformat": 4,
  "nbformat_minor": 0,
  "metadata": {
    "colab": {
      "provenance": [],
      "collapsed_sections": [],
      "authorship_tag": "ABX9TyOn+TUyHaJpCGy9+ENPS+Dl",
      "include_colab_link": true
    },
    "kernelspec": {
      "name": "python3",
      "display_name": "Python 3"
    },
    "language_info": {
      "name": "python"
    }
  },
  "cells": [
    {
      "cell_type": "markdown",
      "metadata": {
        "id": "view-in-github",
        "colab_type": "text"
      },
      "source": [
        "<a href=\"https://colab.research.google.com/github/Dashnyam7/DIC_assignment/blob/main/Soroshi_Shinzaemon_problem.ipynb\" target=\"_parent\"><img src=\"https://colab.research.google.com/assets/colab-badge.svg\" alt=\"Open In Colab\"/></a>"
      ]
    },
    {
      "cell_type": "markdown",
      "source": [
        "# 【Problem 1] Number of grains of rice on the 100th day"
      ],
      "metadata": {
        "id": "MEjXawIEAJ01"
      }
    },
    {
      "cell_type": "code",
      "execution_count": null,
      "metadata": {
        "colab": {
          "base_uri": "https://localhost:8080/",
          "height": 330
        },
        "id": "PiJxlgMS9jis",
        "outputId": "4cc851cf-2c58-4b9a-858c-9b62764ee83e"
      },
      "outputs": [
        {
          "output_type": "stream",
          "name": "stdout",
          "text": [
            "Sum of grains of rice is  1267650600228229401496703205376.00\n"
          ]
        },
        {
          "output_type": "display_data",
          "data": {
            "text/plain": [
              "<Figure size 432x288 with 1 Axes>"
            ],
            "image/png": "[encoded data removed]"
          },
          "metadata": {
            "needs_background": "light"
          }
        },
        {
          "output_type": "stream",
          "name": "stdout",
          "text": [
            "100\n"
          ]
        }
      ],
      "source": [
        "import matplotlib.pyplot as plt\n",
        "RICE = 1\n",
        "sum_of_rice = 0\n",
        "process = []\n",
        "for i in range(100):\n",
        "    process.append(RICE)\n",
        "    sum_of_rice = sum_of_rice + RICE\n",
        "    RICE = RICE * 2\n",
        "print(\"Sum of grains of rice is {: .2f}\".format(sum_of_rice))\n",
        "plt.title(\"Total number of rice\")\n",
        "plt.xlabel(\"day\")\n",
        "plt.ylabel(\"number of rice\")\n",
        "plt.plot(process)\n",
        "plt.show()\n",
        "print(len(process))"
      ]
    },
    {
      "cell_type": "markdown",
      "source": [
        "# 【Problem 2] Number of rice grains outside of the 100th day"
      ],
      "metadata": {
        "id": "GBJlo4TeEYnf"
      }
    },
    {
      "cell_type": "code",
      "source": [
        "def compute_sorori_shinzaemon(n_days=100):\n",
        "    \n",
        "  n_days: int\n",
        "  sum = 0\n",
        "  rice = 1\n",
        "  list_n_grains = []\n",
        "  list_total_grains = []\n",
        "  for i in range(n_days):\n",
        "    sum = sum + rice\n",
        "    list_n_grains.append(rice)\n",
        "    list_total_grains.append(sum)\n",
        "    rice = rice * 2\n",
        "  pass\n",
        "\n",
        "  return list_n_grains[n_days-1], list_total_grains[n_days-1]\n",
        "\n",
        "list_n_grains, list_total_grains = compute_sorori_shinzaemon(n_days=10)\n",
        "print(\"Day's rice {: .2f} and  total rice {: .2f}\".format(list_n_grains,list_total_grains))"
      ],
      "metadata": {
        "colab": {
          "base_uri": "https://localhost:8080/"
        },
        "id": "DXFiSU3uDPld",
        "outputId": "60a2f544-450c-4e72-b646-ca6a00b92ecd"
      },
      "execution_count": null,
      "outputs": [
        {
          "output_type": "stream",
          "name": "stdout",
          "text": [
            "Day's rice  512.00 and  total rice  1023.00\n"
          ]
        }
      ]
    },
    {
      "cell_type": "markdown",
      "source": [
        "# [Question 3] How many people can live on the rice they receive?\n"
      ],
      "metadata": {
        "id": "AypZQ-lDN2cI"
      }
    },
    {
      "cell_type": "code",
      "source": [
        "def calculate_day(course_day=30):\n",
        "  number_people = 30 \n",
        "  number_rice = 0 \n",
        "  number_day_live : int\n",
        "  rice_per_day = 4800\n",
        "  \n",
        "  rice = 1\n",
        "  course_day\n",
        "  for i in range(course_day):\n",
        "    number_rice = number_rice + rice\n",
        "    rice = rice * 2\n",
        "  pass\n",
        "  rice_per_day = number_rice // (number_people * rice_per_day * course_day)\n",
        "  return rice_per_day\n",
        "number_people_in_course = 30\n",
        "number_day = calculate_day()\n",
        "print(\"{} people can live {} days\".format(number_people_in_course, number_day))"
      ],
      "metadata": {
        "id": "w5cs7p0SN6_Z",
        "colab": {
          "base_uri": "https://localhost:8080/"
        },
        "outputId": "fced1d3b-fd0e-4b65-b1a5-b27e44536df3"
      },
      "execution_count": 9,
      "outputs": [
        {
          "output_type": "stream",
          "name": "stdout",
          "text": [
            "30 people can live 248 days\n"
          ]
        }
      ]
    },
    {
      "cell_type": "markdown",
      "source": [
        "One gram of rice has around 48 grains. 100 grams of rice per person. 4800 grains of rice needed per day. reference: google.com"
      ],
      "metadata": {
        "id": "B21cskPZ6eMv"
      }
    }
  ]
}