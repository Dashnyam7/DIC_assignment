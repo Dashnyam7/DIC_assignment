{
  "nbformat": 4,
  "nbformat_minor": 0,
  "metadata": {
    "colab": {
      "provenance": [],
      "collapsed_sections": [],
      "toc_visible": true,
      "authorship_tag": "ABX9TyM1V6Ci7BbkBHmaLE6D0TOE",
      "include_colab_link": true
    },
    "kernelspec": {
      "name": "python3",
      "display_name": "Python 3"
    },
    "language_info": {
      "name": "python"
    }
  },
  "cells": [
    {
      "cell_type": "markdown",
      "metadata": {
        "id": "view-in-github",
        "colab_type": "text"
      },
      "source": [
        "<a href=\"https://colab.research.google.com/github/Dashnyam7/DIC_assignment/blob/main/Chestnut_manju_problem.ipynb\" target=\"_parent\"><img src=\"https://colab.research.google.com/assets/colab-badge.svg\" alt=\"Open In Colab\"/></a>"
      ]
    },
    {
      "cell_type": "markdown",
      "source": [
        "# [Problem] The day chestnut manju covers the solar system"
      ],
      "metadata": {
        "id": "z0_pcmKFFwQ5"
      }
    },
    {
      "cell_type": "code",
      "execution_count": 47,
      "metadata": {
        "id": "nVxzy4_gFvnI",
        "colab": {
          "base_uri": "https://localhost:8080/"
        },
        "outputId": "719a4b4e-b0d1-4091-bcd9-4c2139a3b742"
      },
      "outputs": [
        {
          "output_type": "stream",
          "name": "stdout",
          "text": [
            "585 minuts later chestnut buns will cover solar system\n"
          ]
        }
      ],
      "source": [
        "def min_time(vol_thing):  #volume_solar_system=2*pow(10,30)/m^3\n",
        "  vol_chestnut = 0.000014  #volume of chestnut buns = 140m^3\n",
        "  v = 1\n",
        "  sum_time = 0\n",
        "  while v > 0:\n",
        "    vol_chestnut = vol_chestnut*2\n",
        "    v = vol_thing - vol_chestnut\n",
        "    sum_time = sum_time + 5\n",
        "  return sum_time\n",
        "min_time = min_time(2*pow(10,30))\n",
        "print(\"{} minuts later chestnut buns will cover solar system\".format(min_time))\n"
      ]
    },
    {
      "cell_type": "code",
      "source": [
        "vol_Dome = 1240000  #volume of Tokyo Dome\n",
        "min_Dome = min_time(vol_Dome)\n",
        "print(\"{} minuts later chestnut buns will cover Tokyo Dome\".format(min_Dome))"
      ],
      "metadata": {
        "colab": {
          "base_uri": "https://localhost:8080/"
        },
        "id": "T-xBrLArnLNL",
        "outputId": "5fc0e72d-e961-43cc-e57b-12f105890b9e"
      },
      "execution_count": 46,
      "outputs": [
        {
          "output_type": "stream",
          "name": "stdout",
          "text": [
            "185 minuts later chestnut buns will cover Tokyo Dome\n"
          ]
        }
      ]
    }
  ]
}