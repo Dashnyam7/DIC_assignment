{
  "nbformat": 4,
  "nbformat_minor": 0,
  "metadata": {
    "colab": {
      "provenance": [],
      "collapsed_sections": [],
      "toc_visible": true,
      "authorship_tag": "ABX9TyO1MyiA1hBQ1mml58JtVWDF",
      "include_colab_link": true
    },
    "kernelspec": {
      "name": "python3",
      "display_name": "Python 3"
    },
    "language_info": {
      "name": "python"
    }
  },
  "cells": [
    {
      "cell_type": "markdown",
      "metadata": {
        "id": "view-in-github",
        "colab_type": "text"
      },
      "source": [
        "<a href=\"https://colab.research.google.com/github/Dashnyam7/DIC_assignment/blob/main/Mt_Fuji.ipynb\" target=\"_parent\"><img src=\"https://colab.research.google.com/assets/colab-badge.svg\" alt=\"Open In Colab\"/></a>"
      ]
    },
    {
      "cell_type": "markdown",
      "source": [
        "# [Problem 1] How many times to fold paper to exceed the height of Mt.Fuji?"
      ],
      "metadata": {
        "id": "2FbMfLLP-hz1"
      }
    },
    {
      "cell_type": "code",
      "execution_count": 19,
      "metadata": {
        "colab": {
          "base_uri": "https://localhost:8080/"
        },
        "id": "pPSkeq05-e6t",
        "outputId": "94995482-ae64-43bb-eca4-65f98a7ff286"
      },
      "outputs": [
        {
          "output_type": "stream",
          "name": "stdout",
          "text": [
            "26 5368.70912\n"
          ]
        }
      ],
      "source": [
        "thickness = 0.00008\n",
        "height = 3776\n",
        "folded_number = 0\n",
        "h = 1\n",
        "while h>0:\n",
        "    thickness = thickness * 2\n",
        "    h = height - thickness\n",
        "    folded_number = folded_number + 1\n",
        "print(folded_number, thickness)\n",
        "\n",
        "\n"
      ]
    },
    {
      "cell_type": "markdown",
      "source": [
        "# [Problem 2] Function corresponding to arbitrary thickness"
      ],
      "metadata": {
        "id": "FJYpigJZ8Fi4"
      }
    },
    {
      "cell_type": "code",
      "source": [
        "def min_fold(height):\n",
        "  t_0 = 0.00008\n",
        "  num_fold = 0\n",
        "  h = 1\n",
        "  while h > 0:\n",
        "    t_0 = t_0 * 2\n",
        "    h = height - t_0\n",
        "    num_fold = num_fold + 1\n",
        "  return num_fold\n",
        "number_min_fold = min_fold(4.0175*pow(10,16))\n",
        "print(\"{} time fold a piece of paper to reach the nearest non-sun star\".format(number_min_fold))"
      ],
      "metadata": {
        "colab": {
          "base_uri": "https://localhost:8080/"
        },
        "id": "afkofU-_8Igj",
        "outputId": "5d0afde4-62ac-48ca-dbfc-f93710a46c30"
      },
      "execution_count": 26,
      "outputs": [
        {
          "output_type": "stream",
          "name": "stdout",
          "text": [
            "69 time fold a piece of paper to reach the nearest non-sun star\n"
          ]
        }
      ]
    },
    {
      "cell_type": "markdown",
      "source": [
        "# [Problem 3] Required paper length"
      ],
      "metadata": {
        "id": "yhtS4azUAnpx"
      }
    },
    {
      "cell_type": "code",
      "source": [
        "def min_fold(height):\n",
        "  t_0 = 0.00008\n",
        "  num_fold = 0\n",
        "  h = 1\n",
        "  while h > 0:\n",
        "    t_0 = t_0 * 2\n",
        "    h = height - t_0\n",
        "    num_fold = num_fold + 1\n",
        "  return num_fold\n",
        "t_0 = 0.00008\n",
        "\n",
        "def length_paper(height):\n",
        "  number_fold = min_fold(height)\n",
        "  pi = 3.14\n",
        "  l = (pi*t_0/6)*(pow(2,number_fold+4))*(pow(2,number_fold)-1)\n",
        "  print(\"{} length of paper needed to reach the Moon\".format(l))\n",
        "\n",
        "length_paper(384400000)\n",
        "length_paper(3776)\n",
        "length_paper(4.0175*pow(10,16))"
      ],
      "metadata": {
        "colab": {
          "base_uri": "https://localhost:8080/"
        },
        "id": "X3S4UyLDAq_m",
        "outputId": "eea75a1d-82a5-49cd-862a-cb54ec3ab6c6"
      },
      "execution_count": 32,
      "outputs": [
        {
          "output_type": "stream",
          "name": "stdout",
          "text": [
            "5.182842297807537e+22 length of paper needed to reach the Moon\n",
            "3016811225433.9253 length of paper needed to reach the Moon\n",
            "2.334144664112872e+38 length of paper needed to reach the Moon\n"
          ]
        }
      ]
    }
  ]
}