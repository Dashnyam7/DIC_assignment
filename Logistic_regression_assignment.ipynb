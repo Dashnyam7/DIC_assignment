{
  "nbformat": 4,
  "nbformat_minor": 0,
  "metadata": {
    "colab": {
      "provenance": [],
      "toc_visible": true,
      "authorship_tag": "ABX9TyPR43nEfEbl5Q5BXUYOwvYt",
      "include_colab_link": true
    },
    "kernelspec": {
      "name": "python3",
      "display_name": "Python 3"
    },
    "language_info": {
      "name": "python"
    }
  },
  "cells": [
    {
      "cell_type": "markdown",
      "metadata": {
        "id": "view-in-github",
        "colab_type": "text"
      },
      "source": [
        "<a href=\"https://colab.research.google.com/github/Dashnyam7/DIC_assignment/blob/main/Logistic_regression_assignment.ipynb\" target=\"_parent\"><img src=\"https://colab.research.google.com/assets/colab-badge.svg\" alt=\"Open In Colab\"/></a>"
      ]
    },
    {
      "cell_type": "markdown",
      "source": [
        "# [Problem 1] Hypothetical function"
      ],
      "metadata": {
        "id": "GGhR6JEDgI7D"
      }
    },
    {
      "cell_type": "code",
      "execution_count": 1,
      "metadata": {
        "id": "2vR-TRIdgF4C"
      },
      "outputs": [],
      "source": [
        "def _sigmoid(self,y):\n",
        "        \"\"\"sigmoid function\"\"\"\n",
        "        return 1 / (1 + np.exp(-y))"
      ]
    },
    {
      "cell_type": "code",
      "source": [
        "def _logistic_hypothesis(self, X):\n",
        "    pred = X @ self.theta\n",
        "    pred = self._sigmoid(pred)\n",
        "    return pred"
      ],
      "metadata": {
        "id": "e9bs1MkAg6SV"
      },
      "execution_count": 2,
      "outputs": []
    },
    {
      "cell_type": "markdown",
      "source": [
        "# [Question 2] The steepest descent method"
      ],
      "metadata": {
        "id": "l-bdTKe6gqUM"
      }
    },
    {
      "cell_type": "code",
      "source": [
        "def _gradient_descent(self, X, y):\n",
        "    m = X.shape[0]\n",
        "    n = X.shape[1]\n",
        "    pred = self._logistic_hypothesis(X)\n",
        "    for j in range(n):\n",
        "        gradient = 0\n",
        "        for i in range(m):\n",
        "            gradient += (pred[i] - y[i]) * X[i, j]\n",
        "        self.theta[j] = self.theta[j] - self.lr * ((gradient+self.lam*self.theta[j]) / m)"
      ],
      "metadata": {
        "id": "8OtxWjoMgtv-"
      },
      "execution_count": 3,
      "outputs": []
    },
    {
      "cell_type": "markdown",
      "source": [
        "# [Question 3] Presumption"
      ],
      "metadata": {
        "id": "Q3pcxn_jg_sl"
      }
    },
    {
      "cell_type": "code",
      "source": [
        "def predict(self, X):\n",
        "        \"\"\"\n",
        "        Estimate labels using logistic regression。\n",
        "\n",
        "        Parameters\n",
        "        ----------\n",
        "        X : ndarray, shape (n_samples, n_features)\n",
        "            sample\n",
        "\n",
        "        Returns\n",
        "        -------\n",
        "            ndarray, shape (n_samples, 1)\n",
        "            Estimation result by logistic regression\n",
        "        \"\"\"\n",
        "\n",
        "        if self.bias == True:\n",
        "            a = np.ones(X.shape[0]).reshape(X.shape[0], 1)\n",
        "            X = np.hstack([a, X])\n",
        "        return  np.where(self._logistic_hypothesis(X) >= 0.5,1,0)\n",
        "\n",
        "def predict_proba(self, X):\n",
        "        \"\"\"\n",
        "        Estimate probabilities using logistic regression。\n",
        "\n",
        "        Parameters\n",
        "        ----------\n",
        "        X : ndarray, shape (n_samples, n_features)\n",
        "            sample\n",
        "\n",
        "        Returns\n",
        "        -------\n",
        "            ndarray, shape (n_samples, 1)\n",
        "            Estimation result by logistic regression\n",
        "        \"\"\"\n",
        "\n",
        "        if self.bias == True:\n",
        "            a = np.ones(X.shape[0]).reshape(X.shape[0], 1)\n",
        "            X = np.hstack([a, X])\n",
        "        pred = self._logistic_hypothesis(X)\n",
        "        return pred"
      ],
      "metadata": {
        "id": "tDGHN5cIhEQN"
      },
      "execution_count": 6,
      "outputs": []
    },
    {
      "cell_type": "markdown",
      "source": [
        "# [Question 4] Objective function"
      ],
      "metadata": {
        "id": "nAT_VImih0we"
      }
    },
    {
      "cell_type": "code",
      "source": [
        "def _loss_func(self, pred, y):\n",
        "    error = 0\n",
        "    for i in range(y.shape[0]):\n",
        "        error += -np.sum(y[i] *  np.log(pred[i])+(1-y[i]) *  np.log(1-pred[i]))\n",
        "    loss = error / (y.shape[0])\n",
        "    loss = loss + np.sum(self.theta**2)*self.lam/(2 * y.shape[0])\n",
        "    return loss"
      ],
      "metadata": {
        "id": "gdalimTAh4sf"
      },
      "execution_count": 7,
      "outputs": []
    },
    {
      "cell_type": "markdown",
      "source": [
        "# [Question 5] Learning and Estimation"
      ],
      "metadata": {
        "id": "vWK2TrDLh4R9"
      }
    },
    {
      "cell_type": "code",
      "source": [
        "class ScratchLogisticRegression():\n",
        "    def __init__(self, num_iter, lr, bias, verbose,lam):\n",
        "        self.num_iter = num_iter\n",
        "        self.lr = lr\n",
        "        self.bias = bias\n",
        "        self.verbose = verbose\n",
        "        self.lam = lam\n",
        "        self.theta = np.array([])\n",
        "        self.loss = np.array([])\n",
        "        self.val_loss = np.array([])\n",
        "\n",
        "    def fit(self, X, y, X_val=None, y_val=None):\n",
        "        if self.bias == True:\n",
        "            bias = np.ones((X.shape[0], 1))\n",
        "            X = np.hstack((bias, X))\n",
        "            bias = np.ones((X_val.shape[0], 1))\n",
        "            X_val = np.hstack((bias, X_val))\n",
        "        self.theta = np.zeros(X.shape[1])\n",
        "        self.theta = self.theta.reshape(X.shape[1], 1)\n",
        "        for i in range(self.num_iter):\n",
        "            pred = self._logistic_hypothesis(X)\n",
        "            pred_val = self._logistic_hypothesis(X_val)\n",
        "            self._gradient_descent(X, y)\n",
        "            loss = self._loss_func(pred, y)\n",
        "            self.loss = np.append(self.loss, loss)\n",
        "            loss_val = self._loss_func(pred_val, y_val)\n",
        "            self.val_loss = np.append(self.val_loss, loss_val)\n",
        "            if self.verbose == True:\n",
        "                print('{}th training loss is {}'.format(i,loss))\n",
        "\n",
        "    def _gradient_descent(self, X, y):\n",
        "        m = X.shape[0]\n",
        "        n = X.shape[1]\n",
        "        pred = self._logistic_hypothesis(X)\n",
        "        for j in range(n):\n",
        "            gradient = 0\n",
        "            for i in range(m):\n",
        "                gradient += (pred[i] - y[i]) * X[i, j]\n",
        "            self.theta[j] = self.theta[j] - self.lr * ((gradient+self.lam*self.theta[j]) / m)\n",
        "     \n",
        "    def _sigmoid(self,y):\n",
        "        \"\"\"sigmoid function\"\"\"\n",
        "        return 1 / (1 + np.exp(-y))\n",
        "        \n",
        "    def _logistic_hypothesis(self, X):\n",
        "        pred = X @ self.theta\n",
        "        pred = self._sigmoid(pred)\n",
        "        return pred\n",
        "       \n",
        "    def predict(self, X):\n",
        "        \"\"\"\n",
        "        Estimate labels using logistic regression。\n",
        "\n",
        "        Parameters\n",
        "        ----------\n",
        "        X : ndarray, shape (n_samples, n_features)\n",
        "            sample\n",
        "\n",
        "        Returns\n",
        "        -------\n",
        "            ndarray, shape (n_samples, 1)\n",
        "            Estimation result by logistic regression\n",
        "        \"\"\"\n",
        "\n",
        "        if self.bias == True:\n",
        "            a = np.ones(X.shape[0]).reshape(X.shape[0], 1)\n",
        "            X = np.hstack([a, X])\n",
        "        return  np.where(self._logistic_hypothesis(X) >= 0.5,1,0)\n",
        "\n",
        "    def predict_proba(self, X):\n",
        "        \"\"\"\n",
        "        Estimate probabilities using logistic regression。\n",
        "\n",
        "        Parameters\n",
        "        ----------\n",
        "        X : ndarray, shape (n_samples, n_features)\n",
        "            sample\n",
        "\n",
        "        Returns\n",
        "        -------\n",
        "            ndarray, shape (n_samples, 1)\n",
        "            Estimation result by logistic regression\n",
        "        \"\"\"\n",
        "\n",
        "        if self.bias == True:\n",
        "            a = np.ones(X.shape[0]).reshape(X.shape[0], 1)\n",
        "            X = np.hstack([a, X])\n",
        "        pred = self._logistic_hypothesis(X)\n",
        "        return pred\n",
        "        \n",
        "    def _loss_func(self, pred, y):\n",
        "        error = 0\n",
        "        for i in range(y.shape[0]):\n",
        "            error += -np.sum(y[i] *  np.log(pred[i])+(1-y[i]) *  np.log(1-pred[i]))\n",
        "        loss = error / (y.shape[0])\n",
        "        loss = loss + np.sum(self.theta**2)*self.lam/(2 * y.shape[0])\n",
        "        return loss"
      ],
      "metadata": {
        "id": "cm7yoNVhiDQG"
      },
      "execution_count": 19,
      "outputs": []
    },
    {
      "cell_type": "code",
      "source": [
        "import numpy as np\n",
        "import pandas as pd\n",
        "from sklearn.datasets import load_iris\n",
        "from sklearn.model_selection import train_test_split\n",
        "iris = load_iris()\n",
        "X = iris.data[:100,:]\n",
        "y = iris.target[:100]\n",
        "(X_train, X_test, y_train, y_test) = train_test_split(X, y, test_size=0.2)"
      ],
      "metadata": {
        "id": "CUveKQoWnQKf"
      },
      "execution_count": 16,
      "outputs": []
    },
    {
      "cell_type": "code",
      "source": [
        "slr = ScratchLogisticRegression(num_iter=100, lr=0.01, bias=True, verbose=True,lam=0.1)\n",
        "slr.fit(X_train, y_train, X_test, y_test)\n"
      ],
      "metadata": {
        "colab": {
          "base_uri": "https://localhost:8080/"
        },
        "id": "S0nrrXmLnTIM",
        "outputId": "88de4404-c1f0-4407-9da5-7aecd198e987"
      },
      "execution_count": 25,
      "outputs": [
        {
          "output_type": "stream",
          "name": "stdout",
          "text": [
            "0th training loss is 0.6931472133128265\n",
            "1th training loss is 0.6879536700056779\n",
            "2th training loss is 0.682930008189488\n",
            "3th training loss is 0.678046351847922\n",
            "4th training loss is 0.6732797587115128\n",
            "5th training loss is 0.6686125974688274\n",
            "6th training loss is 0.6640313005665729\n",
            "7th training loss is 0.6595254076591273\n",
            "8th training loss is 0.6550868330792795\n",
            "9th training loss is 0.6507093054739871\n",
            "10th training loss is 0.6463879394735672\n",
            "11th training loss is 0.6421189084633259\n",
            "12th training loss is 0.637899194688378\n",
            "13th training loss is 0.6337263984649925\n",
            "14th training loss is 0.6295985925433228\n",
            "15th training loss is 0.6255142109485502\n",
            "16th training loss is 0.6214719641439347\n",
            "17th training loss is 0.6174707742856993\n",
            "18th training loss is 0.6135097258128288\n",
            "19th training loss is 0.6095880277405088\n",
            "20th training loss is 0.6057049848856065\n",
            "21th training loss is 0.6018599759089209\n",
            "22th training loss is 0.5980524365598813\n",
            "23th training loss is 0.594281846891694\n",
            "24th training loss is 0.5905477215066983\n",
            "25th training loss is 0.5868496021143372\n",
            "26th training loss is 0.5831870518540481\n",
            "27th training loss is 0.5795596509650435\n",
            "28th training loss is 0.575966993483899\n",
            "29th training loss is 0.572408684726391\n",
            "30th training loss is 0.5688843393676596\n",
            "31th training loss is 0.5653935799787815\n",
            "32th training loss is 0.561936035911404\n",
            "33th training loss is 0.5585113424477467\n",
            "34th training loss is 0.5551191401528283\n",
            "35th training loss is 0.5517590743807365\n",
            "36th training loss is 0.5484307948981546\n",
            "37th training loss is 0.5451339555970688\n",
            "38th training loss is 0.5418682142752357\n",
            "39th training loss is 0.5386332324680618\n",
            "40th training loss is 0.5354286753194263\n",
            "41th training loss is 0.5322542114819385\n",
            "42th training loss is 0.52910951303938\n",
            "43th training loss is 0.5259942554458101\n",
            "44th training loss is 0.5229081174771317\n",
            "45th training loss is 0.5198507811919109\n",
            "46th training loss is 0.5168219318990322\n",
            "47th training loss is 0.513821258130329\n",
            "48th training loss is 0.5108484516168075\n",
            "49th training loss is 0.5079032072673957\n",
            "50th training loss is 0.5049852231494284\n",
            "51th training loss is 0.5020942004702688\n",
            "52th training loss is 0.49922984355961764\n",
            "53th training loss is 0.4963918598521864\n",
            "54th training loss is 0.4935799598704825\n",
            "55th training loss is 0.49079385720753393\n",
            "56th training loss is 0.4880332685094258\n",
            "57th training loss is 0.4852979134575638\n",
            "58th training loss is 0.48258751475059836\n",
            "59th training loss is 0.4799017980859775\n",
            "60th training loss is 0.47724049214110703\n",
            "61th training loss is 0.4746033285541056\n",
            "62th training loss is 0.4719900419041582\n",
            "63th training loss is 0.46940036969147264\n",
            "64th training loss is 0.4668340523168515\n",
            "65th training loss is 0.464290833060893\n",
            "66th training loss is 0.4617704580628411\n",
            "67th training loss is 0.4592726762991008\n",
            "68th training loss is 0.4567972395614398\n",
            "69th training loss is 0.4543439024348962\n",
            "70th training loss is 0.4519124222754135\n",
            "71th training loss is 0.4495025591872245\n",
            "72th training loss is 0.4471140760000035\n",
            "73th training loss is 0.4447467382458039\n",
            "74th training loss is 0.4424003141358071\n",
            "75th training loss is 0.44007457453689736\n",
            "76th training loss is 0.43776929294807987\n",
            "77th training loss is 0.43548424547676623\n",
            "78th training loss is 0.43321921081493614\n",
            "79th training loss is 0.4309739702151992\n",
            "80th training loss is 0.42874830746676956\n",
            "81th training loss is 0.42654200887136723\n",
            "82th training loss is 0.42435486321906773\n",
            "83th training loss is 0.42218666176410313\n",
            "84th training loss is 0.4200371982006394\n",
            "85th training loss is 0.4179062686385363\n",
            "86th training loss is 0.41579367157910413\n",
            "87th training loss is 0.4136992078908705\n",
            "88th training loss is 0.41162268078536557\n",
            "89th training loss is 0.40956389579293984\n",
            "90th training loss is 0.40752266073862375\n",
            "91th training loss is 0.4054987857180374\n",
            "92th training loss is 0.40349208307336315\n",
            "93th training loss is 0.4015023673693863\n",
            "94th training loss is 0.3995294553696156\n",
            "95th training loss is 0.3975731660124892\n",
            "96th training loss is 0.39563332038767723\n",
            "97th training loss is 0.3937097417124835\n",
            "98th training loss is 0.39180225530835666\n",
            "99th training loss is 0.3899106885775181\n"
          ]
        }
      ]
    },
    {
      "cell_type": "code",
      "source": [
        "slr.predict(X_test).T"
      ],
      "metadata": {
        "colab": {
          "base_uri": "https://localhost:8080/"
        },
        "id": "IrcOLaZKop8I",
        "outputId": "54853177-abb0-44f9-e870-753dd05aa280"
      },
      "execution_count": 26,
      "outputs": [
        {
          "output_type": "execute_result",
          "data": {
            "text/plain": [
              "array([[1, 1, 0, 0, 1, 1, 1, 1, 1, 1, 0, 0, 1, 0, 0, 1, 1, 1, 0, 0]])"
            ]
          },
          "metadata": {},
          "execution_count": 26
        }
      ]
    },
    {
      "cell_type": "code",
      "source": [
        "y_test"
      ],
      "metadata": {
        "colab": {
          "base_uri": "https://localhost:8080/"
        },
        "id": "G8nV2iLHqTmB",
        "outputId": "8f8544e9-75ce-4274-b190-75fd53ec8f86"
      },
      "execution_count": 27,
      "outputs": [
        {
          "output_type": "execute_result",
          "data": {
            "text/plain": [
              "array([1, 1, 0, 0, 1, 1, 1, 1, 1, 1, 0, 0, 1, 0, 0, 1, 1, 1, 0, 0])"
            ]
          },
          "metadata": {},
          "execution_count": 27
        }
      ]
    },
    {
      "cell_type": "markdown",
      "source": [
        "# [Question 6] Learning curve plot"
      ],
      "metadata": {
        "id": "_kCIwNH5iGmd"
      }
    },
    {
      "cell_type": "code",
      "source": [
        "import matplotlib.pyplot as plt\n",
        "%matplotlib inline\n",
        "plt.plot(slr.loss)\n",
        "plt.plot(slr.val_loss)"
      ],
      "metadata": {
        "colab": {
          "base_uri": "https://localhost:8080/",
          "height": 282
        },
        "id": "WmD4CjaciPie",
        "outputId": "162a1391-3edf-4a8f-86a0-b8dd7be1db12"
      },
      "execution_count": 28,
      "outputs": [
        {
          "output_type": "execute_result",
          "data": {
            "text/plain": [
              "[<matplotlib.lines.Line2D at 0x7fed187bda30>]"
            ]
          },
          "metadata": {},
          "execution_count": 28
        },
        {
          "output_type": "display_data",
          "data": {
            "text/plain": [
              "<Figure size 432x288 with 1 Axes>"
            ],
            "image/png": "[encoded data removed]"
          },
          "metadata": {
            "needs_background": "light"
          }
        }
      ]
    },
    {
      "cell_type": "markdown",
      "source": [
        "# [Problem 7] Visualization of the decision region"
      ],
      "metadata": {
        "id": "8UVY0VaSiJt2"
      }
    },
    {
      "cell_type": "code",
      "source": [
        "X = iris.data[:100,:2]\n",
        "y = iris.target[:100]\n",
        "(X_train, X_test, y_train, y_test) = train_test_split(X, y, test_size=0.2)\n",
        "slr = ScratchLogisticRegression(num_iter=2000, lr=0.001,bias=True,verbose=False,lam = 0.1)\n",
        "slr.fit(X_train, y_train,X_test,y_test)"
      ],
      "metadata": {
        "id": "1Owr9Fs1s0Qr"
      },
      "execution_count": 38,
      "outputs": []
    },
    {
      "cell_type": "code",
      "source": [
        "from matplotlib.colors import ListedColormap\n",
        "def decision_region(X,y,slr):\n",
        "    mesh_f0, mesh_f1  = np.meshgrid(\n",
        "        np.arange(np.min(X[:,0]), np.max(X[:,0]), 0.01), \n",
        "        np.arange(np.min(X[:,1]), np.max(X[:,1]), 0.01)\n",
        "    )\n",
        "    mesh = np.c_[np.ravel(mesh_f0),np.ravel(mesh_f1)]\n",
        "    y_pred = slr.predict(mesh).reshape(mesh_f0.shape)\n",
        "    plt.title('decision region')\n",
        "    plt.xlabel('feature0')\n",
        "    plt.ylabel('feature1')\n",
        "    plt.contourf(mesh_f0, mesh_f1, y_pred,cmap=ListedColormap(['pink', 'skyblue']))\n",
        "    plt.contour(mesh_f0, mesh_f1, y_pred,colors='red')\n",
        "    plt.scatter(X[y==0][:, 0], X[y==0][:, 1],label='0')\n",
        "    plt.scatter(X[y==1][:, 0], X[y==1][:, 1],label='1')\n",
        "    plt.legend()\n",
        "    plt.show()"
      ],
      "metadata": {
        "id": "HAoZOl4Js4aR"
      },
      "execution_count": 36,
      "outputs": []
    },
    {
      "cell_type": "code",
      "source": [
        "decision_region(X,y,slr)"
      ],
      "metadata": {
        "colab": {
          "base_uri": "https://localhost:8080/",
          "height": 295
        },
        "id": "ifeUqWGys84b",
        "outputId": "ec2b9956-2e8d-4ad3-d231-30d81c65828b"
      },
      "execution_count": 37,
      "outputs": [
        {
          "output_type": "display_data",
          "data": {
            "text/plain": [
              "<Figure size 432x288 with 1 Axes>"
            ],
            "image/png": "[encoded data removed]"
          },
          "metadata": {
            "needs_background": "light"
          }
        }
      ]
    }
  ]
}